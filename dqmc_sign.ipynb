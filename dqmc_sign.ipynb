{
 "cells": [
  {
   "cell_type": "code",
   "execution_count": 1,
   "metadata": {},
   "outputs": [],
   "source": [
    "import numpy as np\n",
    "import numpy.linalg as LA\n",
    "import matplotlib.pyplot as plt\n",
    "import scipy.linalg as sla"
   ]
  },
  {
   "cell_type": "code",
   "execution_count": 2,
   "metadata": {},
   "outputs": [],
   "source": [
    "# define lattice and generate hopping matrix with OBC"
   ]
  },
  {
   "cell_type": "code",
   "execution_count": 3,
   "metadata": {},
   "outputs": [],
   "source": [
    "from pythtb import *\n",
    "def Tmatrix(t,mu):\n",
    "\n",
    "    # set model parameters\n",
    "    mu=0.0\n",
    "    t=-1.0\n",
    "    lat=[[1.0,0.0],[0.0,1.0]]\n",
    "    orb=[[0.0,0.0]]\n",
    "\n",
    "    # create TB model\n",
    "    my_model=tb_model(2,2,lat,orb)\n",
    "    \n",
    "    # set on-site energies\n",
    "    my_model.set_onsite([-mu])\n",
    "    # set hopping terms (one for each nearest neighbor)\n",
    "    my_model.set_hop(t, 0, 0, [1, 0])\n",
    "    my_model.set_hop(t, 0, 0, [0, 1])\n",
    "\n",
    "    # create a 4x4 lattice\n",
    "    Nx, Ny = 4, 4\n",
    "    my_ham = my_model.cut_piece(Nx,0,glue_edgs=False)\n",
    "    my_ham = my_ham.cut_piece(Ny,1,glue_edgs=False)\n",
    "    # print Hamiltonian\n",
    "    return my_ham._gen_ham()\n"
   ]
  },
  {
   "cell_type": "code",
   "execution_count": 4,
   "metadata": {},
   "outputs": [],
   "source": [
    "def ExpM(phi,ExpT,Vdiag):\n",
    "    # T = exp(-T*dtau)\n",
    "    return np.diag(np.exp(phi * Vdiag)).dot(ExpT)"
   ]
  },
  {
   "cell_type": "code",
   "execution_count": 5,
   "metadata": {},
   "outputs": [],
   "source": [
    "def SVD_stablizer_back(A,U,D,V):\n",
    "    # B = U * D * V\n",
    "    # B * A = U * D * V * B = U * U1 * D1 * V1 = U2 * D1 * V1\n",
    "    U1, D, V = LA.svd(np.diag(D).dot(V).dot(A))\n",
    "    return U.dot(U1), D, V\n",
    "    \n",
    "def SVD_stablizer_forward(A,U,D,V):\n",
    "    # B = U * D * V\n",
    "    # A * B = A * U * D * V = U1 * D1 * V1 * V = U1 * D1 * V2\n",
    "    U, D, V1 = LA.svd(A.dot(U.dot(np.diag(D))))\n",
    "    return U, D, V1.dot(V)"
   ]
  },
  {
   "cell_type": "code",
   "execution_count": 6,
   "metadata": {},
   "outputs": [],
   "source": [
    "def GF(UL,DL,VL,UR,DR,VR):\n",
    "    # B(t,0) = UL * DL * VL\n",
    "    # B(beta,t) = VR * DR * UR Take care of it !!!\n",
    "    U,D,V = LA.svd(LA.inv(UL.dot(UR))+np.diag(DR).dot(VR.dot(VL)).dot(np.diag(DL)))\n",
    "    return LA.inv(V.dot(UL)).dot(np.diag(1/D)).dot(LA.inv(UR.dot(U)))"
   ]
  },
  {
   "cell_type": "code",
   "execution_count": 7,
   "metadata": {},
   "outputs": [],
   "source": [
    "def Stable_Bmatrix(phi,ExpT,Vdiag):\n",
    "    # use SVD algorithm to calculate the stable B matrix\n",
    "    # ExpT: the matrix of exp(-dtau * T)\n",
    "    # Vdiag: Ntau x L matrix with each column being - alpha \n",
    "    Ntau, L = phi.shape\n",
    "    U = np.zeros((Ntau+1,L,L))\n",
    "    D = np.zeros((Ntau+1,L))\n",
    "    V = np.zeros((Ntau+1,L,L))\n",
    "\n",
    "    U[0],D[0],V[0] = LA.svd(np.eye(L))\n",
    "    for i in range(Ntau):\n",
    "        U[i+1], D[i+1], V[i+1] = SVD_stablizer_forward(ExpM(phi[i], ExpT, Vdiag),U[i],D[i],V[i])\n",
    "    return U,D,V"
   ]
  },
  {
   "cell_type": "code",
   "execution_count": 8,
   "metadata": {},
   "outputs": [],
   "source": [
    "def Update_HS(GFup, GFdn, phi, alpha):\n",
    "    Ident = np.eye(len(phi))\n",
    "    for i in range(len(phi)):\n",
    "        dup = np.exp(-2 * alpha * phi[i]) -1 \n",
    "        ddn = np.exp(2 * alpha * phi[i]) -1\n",
    "        Rup = 1 + dup * (1 - GFup[i,i])\n",
    "        Rdn = 1 + ddn * (1 - GFdn[i,i])\n",
    "        \n",
    "        if  np.abs(Rup * Rdn) > np.random.rand():\n",
    "            \n",
    "            GFup -= dup * np.outer(GFup[:,i], Ident[i]-GFup[i,:])/Rup\n",
    "            GFdn -= ddn * np.outer(GFdn[:,i], Ident[i]-GFdn[i,:])/Rdn\n",
    "            phi[i] = -phi[i]\n",
    "    \n",
    "    return GFup, GFdn, phi"
   ]
  },
  {
   "cell_type": "code",
   "execution_count": 21,
   "metadata": {},
   "outputs": [],
   "source": [
    "def Sweep_backward(GFup,GFdn,Uup,Dup,Vup,Udn,Ddn,Vdn,phi,ExpT,Vdiag,Nstable,alpha):\n",
    "    # Input GFup, GFdn should be G(0,0) = G(\\beta,\\beta)\n",
    "    # The first member of U, D, V should be the result of I = B(0,0) or B(\\beta, \\beta)\n",
    "    Ntau = len(phi) \n",
    "    ind_revered = np.roll(np.arange(Ntau+1)[::-1], shift=1)\n",
    "    for n in range(1,Ntau+1):\n",
    "        i = ind_revered[n]\n",
    "        i_1 = ind_revered[n-1]\n",
    "        if np.mod(n,Nstable) == 0:\n",
    "            # recompute equal time GF to avoid accumulation of numerical error\n",
    "            GFup_recomputed = GF(Vup[i_1],Dup[i_1],Uup[i_1],Uup[i],Dup[i],Vup[i])\n",
    "            GFdn_recomputed = GF(Vdn[i_1],Ddn[i_1],Udn[i_1],Udn[i],Ddn[i],Vdn[i])\n",
    "            # compare with advanced one to get the accumulated error\n",
    "            GFup_error = np.max(np.abs(GFup_recomputed - GFup))\n",
    "            GFdn_error = np.max(np.abs(GFdn_recomputed - GFdn))\n",
    "            print(\"Devitation between GF by propagating and by recomputed: \", (GFup_error + GFdn_error)/2)\n",
    "            GFup = GFup_recomputed\n",
    "            GFdn = GFdn_recomputed\n",
    "        \n",
    "        # Update H-S field and Green function\n",
    "        GFup, GFdn, phi[i-1] = Update_HS(GFup, GFdn, phi[i-1], alpha)\n",
    "\n",
    "        # Update SVD decompostion for B matrix\n",
    "        Bup = ExpM(phi[i-1], ExpT,  Vdiag)\n",
    "        Bdn = ExpM(phi[i-1], ExpT, -Vdiag)\n",
    "\n",
    "        # Advance equal time GF using new H-S field\n",
    "        GFup = LA.inv(Bup).dot(GFup).dot(Bup)\n",
    "        GFdn = LA.inv(Bdn).dot(GFdn).dot(Bdn)\n",
    "\n",
    "        # Repalce SVD decomposition of B matrix\n",
    "        Uup[i], Dup[i], Vup[i] = SVD_stablizer_back(Bup, Uup[i_1], Dup[i_1], Vup[i_1])\n",
    "        Udn[i], Ddn[i], Vdn[i] = SVD_stablizer_back(Bdn, Udn[i_1], Ddn[i_1], Vdn[i_1])\n",
    "\n",
    "    return GFup, GFdn, Uup, Dup, Vup, Udn, Ddn, Vdn, phi\n"
   ]
  },
  {
   "cell_type": "code",
   "execution_count": 22,
   "metadata": {},
   "outputs": [],
   "source": [
    "def Sweep_forward(GFup,GFdn,Uup,Dup,Vup,Udn,Ddn,Vdn,phi,ExpT,Vdiag,Nstable,alpha):\n",
    "    # Input GFup, GFdn should be G(0,0) = G(\\beta,\\beta)\n",
    "    # The first member of U, D, V should be the result of I = B(0,0) or B(\\beta, \\beta)\n",
    "\n",
    "    # reverse the order of U, D, V, and shift B(0,0) to the first one, to make the sweep backward\n",
    "    \n",
    "    Ntau = len(phi) \n",
    "    for i in range(1,Ntau+1):\n",
    "        if np.mod(i,Nstable) == 0:\n",
    "            # recompute equal time GF to avoid accumulation of numerical error\n",
    "            GFup_recomputed = GF(Vup[i],Dup[i],Uup[i],Uup[i-1],Dup[i-1],Vup[i-1])\n",
    "            GFdn_recomputed = GF(Vdn[i],Ddn[i],Udn[i],Udn[i-1],Ddn[i-1],Vdn[i-1])\n",
    "\n",
    "            # compare with advanced one to get the accumulated error\n",
    "            GFup_error = np.max(np.abs(GFup_recomputed - GFup))\n",
    "            GFdn_error = np.max(np.abs(GFdn_recomputed - GFdn))\n",
    "            print(\"evitation between GF by propagating and by recomputed: \", (GFup_error + GFdn_error)/2)\n",
    "            GFup = GFup_recomputed\n",
    "            GFdn = GFdn_recomputed\n",
    "\n",
    "        # Advance equal green function first note that phi has not been updated\n",
    "        Bup = ExpM(phi[i-1], ExpT,  Vdiag)\n",
    "        Bdn = ExpM(phi[i-1], ExpT, -Vdiag)\n",
    "        GFup = Bup.dot(GFup).dot(LA.inv(Bup))\n",
    "        GFdn = Bdn.dot(GFdn).dot(LA.inv(Bdn))\n",
    "        \n",
    "        # Update H-S field and Green function\n",
    "        GFup, GFdn, phi[i-1] = Update_HS(GFup, GFdn, phi[i-1], alpha)\n",
    "\n",
    "        # Update SVD decompostion for B matrix\n",
    "        Bup = ExpM(phi[i-1], ExpT,  Vdiag)\n",
    "        Bdn = ExpM(phi[i-1], ExpT, -Vdiag)\n",
    "\n",
    "        # Repalce SVD decomposition of B matrix\n",
    "        Uup[i], Dup[i], Vup[i] = SVD_stablizer_forward(Bup, Uup[i-1], Dup[i-1], Vup[i-1])\n",
    "        Udn[i], Ddn[i], Vdn[i] = SVD_stablizer_forward(Bdn, Udn[i-1], Ddn[i-1], Vdn[i-1])\n",
    "\n",
    "    return GFup, GFdn, Uup, Dup, Vup, Udn, Ddn, Vdn, phi"
   ]
  },
  {
   "cell_type": "code",
   "execution_count": 23,
   "metadata": {},
   "outputs": [],
   "source": [
    "L = 4 * 4\n",
    "Ntau = 10\n",
    "Nstable = 5\n",
    "dtau = 0.1\n",
    "U = 4.0\n",
    "t = -1.0\n",
    "mu = 0\n",
    "beta = dtau * Ntau\n",
    "alpha = np.arccosh(np.exp(0.5*dtau*U))\n",
    "T = Tmatrix(t,mu).real\n",
    "ExpT = sla.expm(-dtau * T)\n",
    "Vdiag = np.zeros(L)\n",
    "Vdiag[:] = alpha"
   ]
  },
  {
   "cell_type": "code",
   "execution_count": 24,
   "metadata": {},
   "outputs": [
    {
     "name": "stdout",
     "output_type": "stream",
     "text": [
      "Devitation between GF by propagating and by recomputed:  8.515757543570146e-15\n",
      "Devitation between GF by propagating and by recomputed:  2.7429339181928025e-14\n",
      "-------------------------------------------------------\n",
      "evitation between GF by propagating and by recomputed:  1.7468665403086447e-14\n",
      "evitation between GF by propagating and by recomputed:  5.1223348479512154e-14\n",
      "Devitation between GF by propagating and by recomputed:  1.0867175215256708e-14\n",
      "Devitation between GF by propagating and by recomputed:  4.604107893546594e-14\n",
      "-------------------------------------------------------\n",
      "evitation between GF by propagating and by recomputed:  2.786659791809143e-14\n",
      "evitation between GF by propagating and by recomputed:  1.0941941797071308e-13\n",
      "Devitation between GF by propagating and by recomputed:  1.1541115285673698e-14\n",
      "Devitation between GF by propagating and by recomputed:  3.230055112268815e-14\n",
      "-------------------------------------------------------\n",
      "evitation between GF by propagating and by recomputed:  7.070732888081466e-15\n",
      "evitation between GF by propagating and by recomputed:  2.0027339162065338e-13\n",
      "Devitation between GF by propagating and by recomputed:  6.5910818469738786e-15\n",
      "Devitation between GF by propagating and by recomputed:  8.052412903136741e-14\n",
      "-------------------------------------------------------\n",
      "evitation between GF by propagating and by recomputed:  5.872038966181492e-15\n",
      "evitation between GF by propagating and by recomputed:  7.773989785242463e-14\n",
      "Devitation between GF by propagating and by recomputed:  9.978129433818594e-15\n",
      "Devitation between GF by propagating and by recomputed:  1.6491235460547315e-13\n",
      "-------------------------------------------------------\n",
      "evitation between GF by propagating and by recomputed:  1.5458120894429328e-14\n",
      "evitation between GF by propagating and by recomputed:  9.7159693485116e-14\n",
      "Devitation between GF by propagating and by recomputed:  2.398081733190338e-14\n",
      "Devitation between GF by propagating and by recomputed:  7.492617637439025e-14\n",
      "-------------------------------------------------------\n",
      "evitation between GF by propagating and by recomputed:  1.5276668818842154e-13\n",
      "evitation between GF by propagating and by recomputed:  1.372279026523593e-13\n",
      "Devitation between GF by propagating and by recomputed:  1.1249031220406103e-14\n",
      "Devitation between GF by propagating and by recomputed:  1.497857827353899e-13\n",
      "-------------------------------------------------------\n",
      "evitation between GF by propagating and by recomputed:  1.2251614653346898e-13\n",
      "evitation between GF by propagating and by recomputed:  1.426497808765248e-13\n",
      "Devitation between GF by propagating and by recomputed:  6.756964779364161e-15\n",
      "Devitation between GF by propagating and by recomputed:  4.2299497238218464e-14\n",
      "-------------------------------------------------------\n",
      "evitation between GF by propagating and by recomputed:  1.1693770951559657e-14\n",
      "evitation between GF by propagating and by recomputed:  5.002161879152922e-14\n",
      "Devitation between GF by propagating and by recomputed:  1.471739397018723e-14\n",
      "Devitation between GF by propagating and by recomputed:  6.506318921128962e-14\n",
      "-------------------------------------------------------\n",
      "evitation between GF by propagating and by recomputed:  3.996629416302966e-14\n",
      "evitation between GF by propagating and by recomputed:  7.914502386796585e-14\n",
      "Devitation between GF by propagating and by recomputed:  3.002437708177208e-14\n",
      "Devitation between GF by propagating and by recomputed:  8.296141551511482e-14\n",
      "-------------------------------------------------------\n",
      "evitation between GF by propagating and by recomputed:  1.3197776205231548e-14\n",
      "evitation between GF by propagating and by recomputed:  5.913585593431137e-14\n",
      "Devitation between GF by propagating and by recomputed:  1.776096630878854e-14\n",
      "Devitation between GF by propagating and by recomputed:  5.1175697794031416e-14\n",
      "-------------------------------------------------------\n",
      "evitation between GF by propagating and by recomputed:  1.8887669206435476e-14\n",
      "evitation between GF by propagating and by recomputed:  1.1130744763387934e-13\n",
      "Devitation between GF by propagating and by recomputed:  3.4340585930436873e-14\n",
      "Devitation between GF by propagating and by recomputed:  6.708522626297508e-14\n",
      "-------------------------------------------------------\n",
      "evitation between GF by propagating and by recomputed:  3.6474295805888346e-14\n",
      "evitation between GF by propagating and by recomputed:  1.0860366425613499e-13\n",
      "Devitation between GF by propagating and by recomputed:  2.858737552235979e-14\n",
      "Devitation between GF by propagating and by recomputed:  3.138635185084837e-14\n",
      "-------------------------------------------------------\n",
      "evitation between GF by propagating and by recomputed:  3.7006855913013226e-14\n",
      "evitation between GF by propagating and by recomputed:  5.5871973714261e-14\n",
      "Devitation between GF by propagating and by recomputed:  2.1649348980190553e-14\n",
      "Devitation between GF by propagating and by recomputed:  4.641512868497344e-14\n",
      "-------------------------------------------------------\n",
      "evitation between GF by propagating and by recomputed:  8.470654733194749e-15\n",
      "evitation between GF by propagating and by recomputed:  8.792272465640849e-14\n",
      "Devitation between GF by propagating and by recomputed:  9.560711597411675e-15\n",
      "Devitation between GF by propagating and by recomputed:  2.869666310134633e-14\n",
      "-------------------------------------------------------\n",
      "evitation between GF by propagating and by recomputed:  5.823119764158946e-14\n",
      "evitation between GF by propagating and by recomputed:  4.9178431373855455e-14\n",
      "Devitation between GF by propagating and by recomputed:  1.3166551182663966e-14\n",
      "Devitation between GF by propagating and by recomputed:  4.40919002697715e-14\n",
      "-------------------------------------------------------\n",
      "evitation between GF by propagating and by recomputed:  1.4039984452818288e-14\n",
      "evitation between GF by propagating and by recomputed:  1.0265399641440354e-13\n",
      "Devitation between GF by propagating and by recomputed:  9.530570777016578e-15\n",
      "Devitation between GF by propagating and by recomputed:  1.4459614061657078e-13\n",
      "-------------------------------------------------------\n",
      "evitation between GF by propagating and by recomputed:  3.637541656775767e-14\n",
      "evitation between GF by propagating and by recomputed:  1.3846562785246874e-13\n",
      "Devitation between GF by propagating and by recomputed:  1.6112111644872584e-14\n",
      "Devitation between GF by propagating and by recomputed:  6.803238528085842e-14\n",
      "-------------------------------------------------------\n",
      "evitation between GF by propagating and by recomputed:  1.7109577643559248e-14\n",
      "evitation between GF by propagating and by recomputed:  1.7974510768681284e-13\n",
      "Devitation between GF by propagating and by recomputed:  2.720610195461326e-14\n",
      "Devitation between GF by propagating and by recomputed:  1.2335380113193128e-13\n",
      "-------------------------------------------------------\n",
      "evitation between GF by propagating and by recomputed:  3.148002691855112e-14\n",
      "evitation between GF by propagating and by recomputed:  1.208477762304483e-13\n",
      "Devitation between GF by propagating and by recomputed:  1.720455375386898e-14\n",
      "Devitation between GF by propagating and by recomputed:  5.276028637417329e-14\n",
      "-------------------------------------------------------\n",
      "evitation between GF by propagating and by recomputed:  2.72629141484515e-14\n",
      "evitation between GF by propagating and by recomputed:  6.831514520744264e-14\n",
      "Devitation between GF by propagating and by recomputed:  4.334249972814952e-14\n",
      "Devitation between GF by propagating and by recomputed:  2.455466385775651e-13\n",
      "-------------------------------------------------------\n",
      "evitation between GF by propagating and by recomputed:  1.3225531780847177e-14\n",
      "evitation between GF by propagating and by recomputed:  6.738424922214659e-14\n",
      "Devitation between GF by propagating and by recomputed:  1.0431434362134784e-14\n",
      "Devitation between GF by propagating and by recomputed:  2.1145238338071692e-13\n",
      "-------------------------------------------------------\n",
      "evitation between GF by propagating and by recomputed:  2.5757174171303632e-14\n",
      "evitation between GF by propagating and by recomputed:  1.7943285746113702e-13\n",
      "Devitation between GF by propagating and by recomputed:  1.0150300738809293e-14\n",
      "Devitation between GF by propagating and by recomputed:  4.764800208036102e-14\n",
      "-------------------------------------------------------\n",
      "evitation between GF by propagating and by recomputed:  1.647293412787576e-14\n",
      "evitation between GF by propagating and by recomputed:  9.109640125570806e-14\n",
      "Devitation between GF by propagating and by recomputed:  1.4762496780562628e-14\n",
      "Devitation between GF by propagating and by recomputed:  2.5202062658991053e-14\n",
      "-------------------------------------------------------\n",
      "evitation between GF by propagating and by recomputed:  1.4765966227514582e-14\n",
      "evitation between GF by propagating and by recomputed:  8.986041077907458e-14\n",
      "Devitation between GF by propagating and by recomputed:  1.6447672217256848e-14\n",
      "Devitation between GF by propagating and by recomputed:  9.807042331000382e-14\n",
      "-------------------------------------------------------\n",
      "evitation between GF by propagating and by recomputed:  1.847827446610495e-14\n",
      "evitation between GF by propagating and by recomputed:  1.2340692703838307e-13\n",
      "Devitation between GF by propagating and by recomputed:  1.9141372514797084e-14\n",
      "Devitation between GF by propagating and by recomputed:  1.0886213805405554e-13\n",
      "-------------------------------------------------------\n",
      "evitation between GF by propagating and by recomputed:  8.493206138382448e-15\n",
      "evitation between GF by propagating and by recomputed:  8.661127370857002e-14\n",
      "Devitation between GF by propagating and by recomputed:  4.319808399877445e-14\n",
      "Devitation between GF by propagating and by recomputed:  3.58495785141022e-14\n",
      "-------------------------------------------------------\n",
      "evitation between GF by propagating and by recomputed:  1.5210055437364645e-14\n",
      "evitation between GF by propagating and by recomputed:  2.1993865062519546e-13\n",
      "Devitation between GF by propagating and by recomputed:  3.0607461010134784e-14\n",
      "Devitation between GF by propagating and by recomputed:  5.581928148867821e-14\n",
      "-------------------------------------------------------\n",
      "evitation between GF by propagating and by recomputed:  1.715294573045867e-14\n",
      "evitation between GF by propagating and by recomputed:  1.099138683714751e-13\n",
      "Devitation between GF by propagating and by recomputed:  2.953832924784683e-14\n",
      "Devitation between GF by propagating and by recomputed:  4.08232475601622e-14\n",
      "-------------------------------------------------------\n",
      "evitation between GF by propagating and by recomputed:  2.1756034473963126e-14\n",
      "evitation between GF by propagating and by recomputed:  5.372991548208139e-14\n",
      "Devitation between GF by propagating and by recomputed:  6.966649479522857e-15\n",
      "Devitation between GF by propagating and by recomputed:  9.072983250119071e-14\n",
      "-------------------------------------------------------\n",
      "evitation between GF by propagating and by recomputed:  3.0531133177191805e-14\n",
      "evitation between GF by propagating and by recomputed:  7.833154697794997e-14\n",
      "Devitation between GF by propagating and by recomputed:  2.3037127760971998e-14\n",
      "Devitation between GF by propagating and by recomputed:  1.8598322751653407e-13\n",
      "-------------------------------------------------------\n",
      "evitation between GF by propagating and by recomputed:  1.24310284288498e-14\n",
      "evitation between GF by propagating and by recomputed:  1.4019341243454164e-13\n",
      "Devitation between GF by propagating and by recomputed:  7.0637939941775585e-15\n",
      "Devitation between GF by propagating and by recomputed:  5.0047422803234376e-14\n",
      "-------------------------------------------------------\n",
      "evitation between GF by propagating and by recomputed:  8.288508768217184e-15\n",
      "evitation between GF by propagating and by recomputed:  5.409301478964679e-14\n",
      "Devitation between GF by propagating and by recomputed:  3.784819679886198e-14\n",
      "Devitation between GF by propagating and by recomputed:  2.33211887301632e-14\n",
      "-------------------------------------------------------\n",
      "evitation between GF by propagating and by recomputed:  7.0898148463172106e-15\n",
      "evitation between GF by propagating and by recomputed:  3.4548535907119593e-13\n",
      "Devitation between GF by propagating and by recomputed:  1.1291748786002032e-14\n",
      "Devitation between GF by propagating and by recomputed:  3.128049306123232e-14\n",
      "-------------------------------------------------------\n",
      "evitation between GF by propagating and by recomputed:  4.9487323960928364e-15\n",
      "evitation between GF by propagating and by recomputed:  6.078471059822732e-14\n",
      "Devitation between GF by propagating and by recomputed:  4.855415115107009e-14\n",
      "Devitation between GF by propagating and by recomputed:  4.8949830733918676e-14\n",
      "-------------------------------------------------------\n",
      "evitation between GF by propagating and by recomputed:  5.971091676659768e-14\n",
      "evitation between GF by propagating and by recomputed:  1.421180881311379e-13\n",
      "Devitation between GF by propagating and by recomputed:  2.6841376343789136e-14\n",
      "Devitation between GF by propagating and by recomputed:  1.1089046347834142e-13\n",
      "-------------------------------------------------------\n",
      "evitation between GF by propagating and by recomputed:  1.8041124150158794e-14\n",
      "evitation between GF by propagating and by recomputed:  5.470623953840459e-14\n",
      "Devitation between GF by propagating and by recomputed:  1.4023504579796509e-14\n",
      "Devitation between GF by propagating and by recomputed:  4.1614281465207625e-14\n",
      "-------------------------------------------------------\n",
      "evitation between GF by propagating and by recomputed:  5.008233411318841e-14\n",
      "evitation between GF by propagating and by recomputed:  8.961711581156884e-14\n",
      "Devitation between GF by propagating and by recomputed:  3.420180805235873e-14\n",
      "Devitation between GF by propagating and by recomputed:  6.531667567921673e-14\n",
      "-------------------------------------------------------\n",
      "evitation between GF by propagating and by recomputed:  2.967071033310731e-14\n",
      "evitation between GF by propagating and by recomputed:  1.229346485720484e-13\n",
      "Devitation between GF by propagating and by recomputed:  1.815214645262131e-14\n",
      "Devitation between GF by propagating and by recomputed:  2.1708329578373764e-14\n",
      "-------------------------------------------------------\n",
      "evitation between GF by propagating and by recomputed:  2.7304547511874944e-14\n",
      "evitation between GF by propagating and by recomputed:  6.81833062232684e-14\n",
      "Devitation between GF by propagating and by recomputed:  1.2503019453102837e-14\n",
      "Devitation between GF by propagating and by recomputed:  1.6311865053131314e-13\n",
      "-------------------------------------------------------\n",
      "evitation between GF by propagating and by recomputed:  1.31117339208231e-13\n",
      "evitation between GF by propagating and by recomputed:  3.851086116668512e-14\n",
      "Devitation between GF by propagating and by recomputed:  1.3464923620531977e-14\n",
      "Devitation between GF by propagating and by recomputed:  6.637659172303856e-14\n",
      "-------------------------------------------------------\n",
      "evitation between GF by propagating and by recomputed:  2.348121697082206e-14\n",
      "evitation between GF by propagating and by recomputed:  6.767286384046223e-14\n",
      "Devitation between GF by propagating and by recomputed:  2.342223637263885e-14\n",
      "Devitation between GF by propagating and by recomputed:  2.964989365139559e-14\n",
      "-------------------------------------------------------\n",
      "evitation between GF by propagating and by recomputed:  2.3681577532297382e-14\n",
      "evitation between GF by propagating and by recomputed:  1.959641216658925e-14\n",
      "Devitation between GF by propagating and by recomputed:  4.541072379238287e-15\n",
      "Devitation between GF by propagating and by recomputed:  5.670594202533685e-14\n",
      "-------------------------------------------------------\n",
      "evitation between GF by propagating and by recomputed:  6.760217385881617e-15\n",
      "evitation between GF by propagating and by recomputed:  1.038830479971331e-13\n",
      "Devitation between GF by propagating and by recomputed:  1.4387796509751638e-14\n",
      "Devitation between GF by propagating and by recomputed:  1.369945823448404e-13\n",
      "-------------------------------------------------------\n",
      "evitation between GF by propagating and by recomputed:  3.058924641363703e-14\n",
      "evitation between GF by propagating and by recomputed:  1.0324380239623565e-13\n",
      "Devitation between GF by propagating and by recomputed:  1.130389185033387e-14\n",
      "Devitation between GF by propagating and by recomputed:  6.975474885206889e-14\n",
      "-------------------------------------------------------\n",
      "evitation between GF by propagating and by recomputed:  2.363083687062506e-14\n",
      "evitation between GF by propagating and by recomputed:  1.0629799991612732e-13\n",
      "Devitation between GF by propagating and by recomputed:  1.603231436497765e-14\n",
      "Devitation between GF by propagating and by recomputed:  5.94472387982492e-14\n",
      "-------------------------------------------------------\n",
      "evitation between GF by propagating and by recomputed:  4.4951889432987e-14\n",
      "evitation between GF by propagating and by recomputed:  1.0613320118590952e-13\n",
      "Devitation between GF by propagating and by recomputed:  3.111400026512001e-14\n",
      "Devitation between GF by propagating and by recomputed:  1.0177178110665208e-13\n",
      "-------------------------------------------------------\n",
      "evitation between GF by propagating and by recomputed:  2.8655897099660876e-14\n",
      "evitation between GF by propagating and by recomputed:  1.5413365028749126e-13\n",
      "Devitation between GF by propagating and by recomputed:  6.036837696399289e-14\n",
      "Devitation between GF by propagating and by recomputed:  4.0484976482346724e-14\n",
      "-------------------------------------------------------\n",
      "evitation between GF by propagating and by recomputed:  5.31345800691696e-14\n",
      "evitation between GF by propagating and by recomputed:  2.449262580944689e-13\n",
      "Devitation between GF by propagating and by recomputed:  1.8977441146317275e-14\n",
      "Devitation between GF by propagating and by recomputed:  4.0051729294221516e-14\n",
      "-------------------------------------------------------\n",
      "evitation between GF by propagating and by recomputed:  2.928083123188152e-14\n",
      "evitation between GF by propagating and by recomputed:  8.453480970782579e-14\n",
      "Devitation between GF by propagating and by recomputed:  1.433228535852038e-14\n",
      "Devitation between GF by propagating and by recomputed:  7.800169201949841e-14\n",
      "-------------------------------------------------------\n",
      "evitation between GF by propagating and by recomputed:  2.5732888042639956e-14\n",
      "evitation between GF by propagating and by recomputed:  6.883816433544965e-14\n",
      "Devitation between GF by propagating and by recomputed:  2.425837308805967e-14\n",
      "Devitation between GF by propagating and by recomputed:  3.46077333457373e-14\n",
      "-------------------------------------------------------\n",
      "evitation between GF by propagating and by recomputed:  2.7613328290598815e-14\n",
      "evitation between GF by propagating and by recomputed:  1.0584545392933187e-13\n",
      "Devitation between GF by propagating and by recomputed:  1.5638084902534766e-14\n",
      "Devitation between GF by propagating and by recomputed:  1.0440086295471218e-13\n",
      "-------------------------------------------------------\n",
      "evitation between GF by propagating and by recomputed:  1.639660629493278e-14\n",
      "evitation between GF by propagating and by recomputed:  7.479433739021601e-14\n",
      "Devitation between GF by propagating and by recomputed:  1.5386346710610788e-14\n",
      "Devitation between GF by propagating and by recomputed:  1.1892570261906599e-13\n",
      "-------------------------------------------------------\n",
      "evitation between GF by propagating and by recomputed:  1.4329032752002924e-14\n",
      "evitation between GF by propagating and by recomputed:  2.506230899895767e-13\n",
      "Devitation between GF by propagating and by recomputed:  1.50712775592865e-14\n",
      "Devitation between GF by propagating and by recomputed:  8.507777815580653e-14\n",
      "-------------------------------------------------------\n",
      "evitation between GF by propagating and by recomputed:  1.27675647831893e-14\n",
      "evitation between GF by propagating and by recomputed:  2.6468410796454123e-13\n",
      "Devitation between GF by propagating and by recomputed:  1.7444379274422772e-14\n",
      "Devitation between GF by propagating and by recomputed:  1.0938472350119355e-13\n",
      "-------------------------------------------------------\n",
      "evitation between GF by propagating and by recomputed:  1.3641865415081611e-14\n",
      "evitation between GF by propagating and by recomputed:  1.6630447019494454e-13\n",
      "Devitation between GF by propagating and by recomputed:  3.674838211509268e-14\n",
      "Devitation between GF by propagating and by recomputed:  1.8790698164128372e-13\n",
      "-------------------------------------------------------\n",
      "evitation between GF by propagating and by recomputed:  5.1042937238010566e-14\n",
      "evitation between GF by propagating and by recomputed:  1.9132959105938596e-13\n",
      "Devitation between GF by propagating and by recomputed:  4.816980148092398e-14\n",
      "Devitation between GF by propagating and by recomputed:  1.6857175377804623e-14\n",
      "-------------------------------------------------------\n",
      "evitation between GF by propagating and by recomputed:  1.6542323066914832e-14\n",
      "evitation between GF by propagating and by recomputed:  2.1417459819539353e-13\n",
      "Devitation between GF by propagating and by recomputed:  1.9141806195666078e-14\n",
      "Devitation between GF by propagating and by recomputed:  2.1940674103937408e-14\n",
      "-------------------------------------------------------\n",
      "evitation between GF by propagating and by recomputed:  2.011932287437901e-14\n",
      "evitation between GF by propagating and by recomputed:  8.693263123249473e-14\n",
      "Devitation between GF by propagating and by recomputed:  5.96267826780128e-15\n",
      "Devitation between GF by propagating and by recomputed:  5.27381957549089e-14\n",
      "-------------------------------------------------------\n",
      "evitation between GF by propagating and by recomputed:  2.5602783781941696e-14\n",
      "evitation between GF by propagating and by recomputed:  7.630007736736388e-14\n",
      "Devitation between GF by propagating and by recomputed:  1.2488274303557034e-14\n",
      "Devitation between GF by propagating and by recomputed:  3.621452096536082e-14\n",
      "-------------------------------------------------------\n",
      "evitation between GF by propagating and by recomputed:  2.5925442348473382e-14\n",
      "evitation between GF by propagating and by recomputed:  2.0881733842070815e-14\n",
      "Devitation between GF by propagating and by recomputed:  6.8209327075408055e-15\n",
      "Devitation between GF by propagating and by recomputed:  3.911194285111108e-14\n",
      "-------------------------------------------------------\n",
      "evitation between GF by propagating and by recomputed:  2.7505775435088253e-14\n",
      "evitation between GF by propagating and by recomputed:  6.882233498373136e-14\n",
      "Devitation between GF by propagating and by recomputed:  1.4417286808843244e-14\n",
      "Devitation between GF by propagating and by recomputed:  3.7136553597896804e-14\n",
      "-------------------------------------------------------\n",
      "evitation between GF by propagating and by recomputed:  1.013772399360846e-14\n",
      "evitation between GF by propagating and by recomputed:  4.6226911187829955e-14\n",
      "Devitation between GF by propagating and by recomputed:  8.14452671971111e-15\n",
      "Devitation between GF by propagating and by recomputed:  5.0752696316436197e-14\n",
      "-------------------------------------------------------\n",
      "evitation between GF by propagating and by recomputed:  2.8121629374114332e-14\n",
      "evitation between GF by propagating and by recomputed:  1.628887996707462e-13\n",
      "Devitation between GF by propagating and by recomputed:  1.5926496232943066e-14\n",
      "Devitation between GF by propagating and by recomputed:  7.998463003033862e-14\n",
      "-------------------------------------------------------\n",
      "evitation between GF by propagating and by recomputed:  3.094746681142624e-14\n",
      "evitation between GF by propagating and by recomputed:  6.035623389966105e-14\n",
      "Devitation between GF by propagating and by recomputed:  3.1100068267203573e-14\n",
      "Devitation between GF by propagating and by recomputed:  5.5246768531497237e-14\n",
      "-------------------------------------------------------\n",
      "evitation between GF by propagating and by recomputed:  8.858148589641068e-15\n",
      "evitation between GF by propagating and by recomputed:  8.976814517419607e-14\n",
      "Devitation between GF by propagating and by recomputed:  2.741556981433746e-14\n",
      "Devitation between GF by propagating and by recomputed:  3.1096653030360244e-14\n",
      "-------------------------------------------------------\n",
      "evitation between GF by propagating and by recomputed:  2.7298259139274528e-14\n",
      "evitation between GF by propagating and by recomputed:  5.698913563279007e-14\n",
      "Devitation between GF by propagating and by recomputed:  1.4072076837123859e-14\n",
      "Devitation between GF by propagating and by recomputed:  8.759659664292485e-14\n",
      "-------------------------------------------------------\n",
      "evitation between GF by propagating and by recomputed:  3.019554549975323e-14\n",
      "evitation between GF by propagating and by recomputed:  1.3969381207346032e-13\n",
      "Devitation between GF by propagating and by recomputed:  1.0392294663708057e-14\n",
      "Devitation between GF by propagating and by recomputed:  3.583895333281184e-14\n",
      "-------------------------------------------------------\n",
      "evitation between GF by propagating and by recomputed:  7.257996287313162e-14\n",
      "evitation between GF by propagating and by recomputed:  8.125661601909862e-14\n",
      "Devitation between GF by propagating and by recomputed:  1.2055474348827977e-14\n",
      "Devitation between GF by propagating and by recomputed:  1.869279470795293e-13\n",
      "-------------------------------------------------------\n",
      "evitation between GF by propagating and by recomputed:  2.915896690769415e-14\n",
      "evitation between GF by propagating and by recomputed:  6.673828156777972e-14\n",
      "Devitation between GF by propagating and by recomputed:  1.8553301256440946e-14\n",
      "Devitation between GF by propagating and by recomputed:  1.395977517609781e-13\n",
      "-------------------------------------------------------\n",
      "evitation between GF by propagating and by recomputed:  1.2406742300186124e-14\n",
      "evitation between GF by propagating and by recomputed:  6.025301785284043e-14\n",
      "Devitation between GF by propagating and by recomputed:  4.8823792231367236e-15\n",
      "Devitation between GF by propagating and by recomputed:  5.581516152042276e-14\n",
      "-------------------------------------------------------\n",
      "evitation between GF by propagating and by recomputed:  1.0664863089870913e-14\n",
      "evitation between GF by propagating and by recomputed:  1.7012514444067484e-13\n",
      "Devitation between GF by propagating and by recomputed:  1.2721377770641418e-14\n",
      "Devitation between GF by propagating and by recomputed:  3.279038688795352e-14\n",
      "-------------------------------------------------------\n",
      "evitation between GF by propagating and by recomputed:  8.146261443187086e-15\n",
      "evitation between GF by propagating and by recomputed:  3.835820550079916e-14\n",
      "Devitation between GF by propagating and by recomputed:  1.2214187994352699e-14\n",
      "Devitation between GF by propagating and by recomputed:  4.273664755416462e-14\n",
      "-------------------------------------------------------\n",
      "evitation between GF by propagating and by recomputed:  1.071365218763276e-14\n",
      "evitation between GF by propagating and by recomputed:  1.0720287504928372e-13\n",
      "Devitation between GF by propagating and by recomputed:  1.021405182655144e-14\n",
      "Devitation between GF by propagating and by recomputed:  3.0188525290686385e-14\n",
      "-------------------------------------------------------\n",
      "evitation between GF by propagating and by recomputed:  1.0696304952872993e-14\n",
      "evitation between GF by propagating and by recomputed:  4.072783776898348e-14\n",
      "Devitation between GF by propagating and by recomputed:  1.8463746156993643e-14\n",
      "Devitation between GF by propagating and by recomputed:  4.3854188943454053e-14\n",
      "-------------------------------------------------------\n",
      "evitation between GF by propagating and by recomputed:  3.3403401572540403e-14\n",
      "evitation between GF by propagating and by recomputed:  1.0098519243051385e-13\n",
      "Devitation between GF by propagating and by recomputed:  8.3789854395111e-15\n",
      "Devitation between GF by propagating and by recomputed:  3.089867771366439e-14\n",
      "-------------------------------------------------------\n",
      "evitation between GF by propagating and by recomputed:  1.8987415806304142e-14\n",
      "evitation between GF by propagating and by recomputed:  5.4723586773164357e-14\n",
      "Devitation between GF by propagating and by recomputed:  5.5219500846859226e-14\n",
      "Devitation between GF by propagating and by recomputed:  1.1907141939104804e-13\n",
      "-------------------------------------------------------\n",
      "evitation between GF by propagating and by recomputed:  3.289556127494819e-14\n",
      "evitation between GF by propagating and by recomputed:  8.989337052511814e-15\n",
      "Devitation between GF by propagating and by recomputed:  4.2063791685920116e-15\n",
      "Devitation between GF by propagating and by recomputed:  2.614922167687439e-14\n",
      "-------------------------------------------------------\n",
      "evitation between GF by propagating and by recomputed:  1.4203915821298096e-14\n",
      "evitation between GF by propagating and by recomputed:  6.546878924401645e-14\n",
      "Devitation between GF by propagating and by recomputed:  1.6042722705833512e-14\n",
      "Devitation between GF by propagating and by recomputed:  2.3266111259800937e-14\n",
      "-------------------------------------------------------\n",
      "evitation between GF by propagating and by recomputed:  3.480549182199866e-14\n",
      "evitation between GF by propagating and by recomputed:  5.673760072877343e-14\n",
      "Devitation between GF by propagating and by recomputed:  1.0989039539444079e-14\n",
      "Devitation between GF by propagating and by recomputed:  2.043330782353081e-14\n",
      "-------------------------------------------------------\n",
      "evitation between GF by propagating and by recomputed:  6.633929516830506e-14\n",
      "evitation between GF by propagating and by recomputed:  4.083886007144599e-14\n",
      "Devitation between GF by propagating and by recomputed:  1.078998002057574e-14\n",
      "Devitation between GF by propagating and by recomputed:  5.3047410214501767e-14\n",
      "-------------------------------------------------------\n",
      "evitation between GF by propagating and by recomputed:  2.7977620220553945e-14\n",
      "evitation between GF by propagating and by recomputed:  9.553469126899472e-14\n",
      "Devitation between GF by propagating and by recomputed:  2.0610249618080445e-14\n",
      "Devitation between GF by propagating and by recomputed:  1.782601843913767e-13\n",
      "-------------------------------------------------------\n",
      "evitation between GF by propagating and by recomputed:  1.1231033464342843e-14\n",
      "evitation between GF by propagating and by recomputed:  4.8204495950443516e-14\n",
      "Devitation between GF by propagating and by recomputed:  6.5416422279085396e-15\n",
      "Devitation between GF by propagating and by recomputed:  6.3216548966058e-14\n",
      "-------------------------------------------------------\n",
      "evitation between GF by propagating and by recomputed:  1.1486471496180428e-14\n",
      "evitation between GF by propagating and by recomputed:  3.0175861809311755e-13\n",
      "Devitation between GF by propagating and by recomputed:  2.795333409189027e-14\n",
      "Devitation between GF by propagating and by recomputed:  7.121213341232391e-14\n",
      "-------------------------------------------------------\n",
      "evitation between GF by propagating and by recomputed:  2.869232629265639e-14\n",
      "evitation between GF by propagating and by recomputed:  1.6080886622305002e-13\n",
      "Devitation between GF by propagating and by recomputed:  4.4200754167889045e-14\n",
      "Devitation between GF by propagating and by recomputed:  3.1466149130743304e-14\n",
      "-------------------------------------------------------\n",
      "evitation between GF by propagating and by recomputed:  1.606006994059328e-14\n",
      "evitation between GF by propagating and by recomputed:  5.5737207384221055e-14\n",
      "Devitation between GF by propagating and by recomputed:  1.444677710793485e-14\n",
      "Devitation between GF by propagating and by recomputed:  2.899199977313138e-14\n",
      "-------------------------------------------------------\n",
      "evitation between GF by propagating and by recomputed:  3.050684704852813e-14\n",
      "evitation between GF by propagating and by recomputed:  5.845671169346645e-14\n",
      "Devitation between GF by propagating and by recomputed:  1.1005085731596864e-14\n",
      "Devitation between GF by propagating and by recomputed:  2.3463869736062293e-14\n",
      "-------------------------------------------------------\n",
      "evitation between GF by propagating and by recomputed:  2.8862546033736614e-14\n",
      "evitation between GF by propagating and by recomputed:  1.3910313872989022e-13\n",
      "Devitation between GF by propagating and by recomputed:  1.8721135752741702e-14\n",
      "Devitation between GF by propagating and by recomputed:  1.1094814303391765e-13\n",
      "-------------------------------------------------------\n",
      "evitation between GF by propagating and by recomputed:  4.954695508041507e-14\n",
      "evitation between GF by propagating and by recomputed:  1.1203017680205818e-13\n",
      "Devitation between GF by propagating and by recomputed:  2.1154085427799174e-14\n",
      "Devitation between GF by propagating and by recomputed:  7.760458942129844e-14\n",
      "-------------------------------------------------------\n",
      "evitation between GF by propagating and by recomputed:  3.8191672047105385e-14\n",
      "evitation between GF by propagating and by recomputed:  1.322232254241662e-13\n",
      "Devitation between GF by propagating and by recomputed:  4.5054238118069634e-14\n",
      "Devitation between GF by propagating and by recomputed:  3.290857170101802e-14\n",
      "-------------------------------------------------------\n",
      "evitation between GF by propagating and by recomputed:  1.6726203755368374e-14\n",
      "evitation between GF by propagating and by recomputed:  5.688570274553495e-14\n",
      "Devitation between GF by propagating and by recomputed:  1.8256229861179918e-14\n",
      "Devitation between GF by propagating and by recomputed:  1.0523526494665703e-13\n",
      "-------------------------------------------------------\n",
      "evitation between GF by propagating and by recomputed:  3.8163916471489756e-14\n",
      "evitation between GF by propagating and by recomputed:  4.028201383565744e-14\n",
      "Devitation between GF by propagating and by recomputed:  2.2687580980562672e-14\n",
      "Devitation between GF by propagating and by recomputed:  4.4775815000175356e-14\n",
      "-------------------------------------------------------\n",
      "evitation between GF by propagating and by recomputed:  3.524958103184872e-14\n",
      "evitation between GF by propagating and by recomputed:  1.6922574452848949e-13\n",
      "Devitation between GF by propagating and by recomputed:  1.388656984541159e-14\n",
      "Devitation between GF by propagating and by recomputed:  4.87518012071142e-14\n",
      "-------------------------------------------------------\n",
      "evitation between GF by propagating and by recomputed:  8.489129538213902e-14\n",
      "evitation between GF by propagating and by recomputed:  1.623128714767219e-13\n",
      "Devitation between GF by propagating and by recomputed:  3.9598532786122576e-14\n",
      "Devitation between GF by propagating and by recomputed:  1.8141477903244052e-13\n",
      "-------------------------------------------------------\n",
      "evitation between GF by propagating and by recomputed:  9.686695889854491e-15\n",
      "evitation between GF by propagating and by recomputed:  6.956588083362192e-14\n",
      "Devitation between GF by propagating and by recomputed:  9.419982155423057e-15\n",
      "Devitation between GF by propagating and by recomputed:  4.823489426885458e-14\n",
      "-------------------------------------------------------\n",
      "evitation between GF by propagating and by recomputed:  2.891003408889148e-14\n",
      "evitation between GF by propagating and by recomputed:  5.482281295599023e-13\n",
      "Devitation between GF by propagating and by recomputed:  9.27383170257201e-15\n",
      "Devitation between GF by propagating and by recomputed:  3.3806291099836017e-14\n",
      "-------------------------------------------------------\n",
      "evitation between GF by propagating and by recomputed:  3.548528658414707e-14\n",
      "evitation between GF by propagating and by recomputed:  7.618656139990465e-14\n",
      "Devitation between GF by propagating and by recomputed:  2.6131874442114622e-14\n",
      "Devitation between GF by propagating and by recomputed:  1.6843622850648554e-13\n",
      "-------------------------------------------------------\n",
      "evitation between GF by propagating and by recomputed:  1.1449174941446927e-14\n",
      "evitation between GF by propagating and by recomputed:  3.135729523262576e-14\n",
      "Devitation between GF by propagating and by recomputed:  1.7190459125626667e-14\n",
      "Devitation between GF by propagating and by recomputed:  5.5823835137802646e-14\n",
      "-------------------------------------------------------\n",
      "evitation between GF by propagating and by recomputed:  2.135271126579852e-14\n",
      "evitation between GF by propagating and by recomputed:  3.9848332966663236e-14\n",
      "Devitation between GF by propagating and by recomputed:  1.8106176280507924e-14\n",
      "Devitation between GF by propagating and by recomputed:  3.1400229638656185e-14\n",
      "-------------------------------------------------------\n",
      "evitation between GF by propagating and by recomputed:  1.3887328786932329e-14\n",
      "evitation between GF by propagating and by recomputed:  1.9162449405030202e-13\n",
      "Devitation between GF by propagating and by recomputed:  3.014949401247691e-14\n",
      "Devitation between GF by propagating and by recomputed:  2.5683448423574617e-14\n",
      "-------------------------------------------------------\n",
      "evitation between GF by propagating and by recomputed:  3.015664974681531e-14\n",
      "evitation between GF by propagating and by recomputed:  1.9637069748057456e-13\n"
     ]
    }
   ],
   "source": [
    "Nwarm = 100\n",
    "phi = np.random.choice([1, -1], size=(Ntau, L))\n",
    "#The part of spin up and spin down are not coupled but direct product\n",
    "Uup,Dup,Vup = Stable_Bmatrix(phi,ExpT,Vdiag)\n",
    "Udn,Ddn,Vdn = Stable_Bmatrix(phi,ExpT,-Vdiag)\n",
    "GFup = GF(Vup[0],Dup[0],Uup[0],Uup[-1],Dup[-1],Vup[-1])\n",
    "GFdn = GF(Vdn[0],Ddn[0],Udn[0],Udn[-1],Ddn[-1],Vdn[-1])\n",
    "# Sweep\n",
    "for _ in range(Nwarm):\n",
    "    GFup, GFdn, Uup, Dup, Vup, Udn, Ddn, Vdn, phi = Sweep_backward(GFup,GFdn,Uup,Dup,Vup,Udn,Ddn,Vdn,phi,ExpT,Vdiag,Nstable,alpha)\n",
    "    print('-------------------------------------------------------')\n",
    "    GFup, GFdn, Uup, Dup, Vup, Udn, Ddn, Vdn, phi = Sweep_forward(GFup,GFdn,Uup,Dup,Vup,Udn,Ddn,Vdn,phi,ExpT,Vdiag,Nstable,alpha)\n",
    "\n",
    "# Measurement "
   ]
  },
  {
   "cell_type": "code",
   "execution_count": 806,
   "metadata": {},
   "outputs": [
    {
     "name": "stdout",
     "output_type": "stream",
     "text": [
      "True\n"
     ]
    },
    {
     "data": {
      "text/plain": [
       "True"
      ]
     },
     "execution_count": 806,
     "metadata": {},
     "output_type": "execute_result"
    }
   ],
   "source": [
    "GF1 = GF(Vup[0],Dup[0],Uup[0],Uup[1],Dup[1],Vup[1])\n",
    "GF2 = GF(Vup[1],Dup[1],Uup[1],Uup[0],Dup[0],Vup[0])\n",
    "print(np.allclose(GF1,GF2))\n",
    "np.allclose(GFup, GF1)"
   ]
  },
  {
   "cell_type": "code",
   "execution_count": 810,
   "metadata": {},
   "outputs": [
    {
     "name": "stdout",
     "output_type": "stream",
     "text": [
      "Error of Green function:  0.0\n",
      "Error of Green function:  2.5164332423388558e-15\n",
      "0.6352847108801076 2.34851679772067 -0.7294953514930461 2.6967941420581276\n",
      "False\n",
      "0.044288243702605985\n"
     ]
    }
   ],
   "source": [
    "Uup,Dup,Vup = Stable_Bmatrix(phi,ExpT,Vdiag)\n",
    "Udn,Ddn,Vdn = Stable_Bmatrix(phi,ExpT,-Vdiag)\n",
    "GFup = GF(Vup[0],Dup[0],Uup[0],Uup[-1],Dup[-1],Vup[-1])\n",
    "GFdn = GF(Vdn[0],Ddn[0],Udn[0],Udn[-1],Ddn[-1],Vdn[-1])\n",
    "GFup, GFdn, Uup, Dup, Vup, Udn, Ddn, Vdn, phi = Sweep_backward(GFup,GFdn,Uup,Dup,Vup,Udn,Ddn,Vdn,phi,ExpT,Vdiag,Nstable,alpha)\n",
    "\n",
    "\n",
    "phi_t = phi.copy()\n",
    "i= 0\n",
    "GFup, GFdn = Update_HS_test(GFup, GFdn, phi_t[0], i, alpha)\n",
    "phi_t[0,i] = -phi_t[0,i]\n",
    "\n",
    "Uup1,Dup1,Vup1 = Stable_Bmatrix(phi_t,ExpT,Vdiag)\n",
    "Udn1,Ddn1,Vdn1 = Stable_Bmatrix(phi_t,ExpT,-Vdiag)\n",
    "GFup1 = GF(Vup1[0],Dup1[0],Uup1[0],Uup1[-1],Dup1[-1],Vup1[-1])\n",
    "GFdn1 = GF(Vdn1[0],Ddn1[0],Udn1[0],Udn1[-1],Ddn1[-1],Vdn1[-1])\n",
    "print(np.allclose(GFup,GFup1))\n",
    "print(np.abs(GFup-GFup1).max())"
   ]
  },
  {
   "cell_type": "code",
   "execution_count": 829,
   "metadata": {},
   "outputs": [
    {
     "name": "stdout",
     "output_type": "stream",
     "text": [
      "Error of Green function:  0.0\n",
      "Error of Green function:  1.438275496964958e-15\n",
      "True\n",
      "True\n",
      "2.3484428972299622 0.6352647204538422 2.6967941420581276 -0.7294953514930461\n",
      "2.6967941420581276\n",
      "True\n",
      "True\n",
      "True\n",
      "True\n",
      "False\n"
     ]
    }
   ],
   "source": [
    "Uup,Dup,Vup = Stable_Bmatrix(phi,ExpT,Vdiag)\n",
    "Udn,Ddn,Vdn = Stable_Bmatrix(phi,ExpT,-Vdiag)\n",
    "GFup = GF(Vup[0],Dup[0],Uup[0],Uup[-1],Dup[-1],Vup[-1])\n",
    "GFdn = GF(Vdn[0],Ddn[0],Udn[0],Udn[-1],Ddn[-1],Vdn[-1])\n",
    "GFup, GFdn, Uup, Dup, Vup, Udn, Ddn, Vdn, phi = Sweep_backward(GFup,GFdn,Uup,Dup,Vup,Udn,Ddn,Vdn,phi,ExpT,Vdiag,Nstable,alpha)\n",
    "\n",
    "B1 = Uup[1].dot(np.diag(Dup[1])).dot(Vup[1])\n",
    "B2 = Uup[2].dot(np.diag(Dup[2])).dot(Vup[2])\n",
    "\n",
    "print(np.allclose(B1, B2.dot(ExpM(phi[0],ExpT,Vdiag))))\n",
    "\n",
    "Uup1,Dup1,Vup1 = Stable_Bmatrix(phi,ExpT,Vdiag)\n",
    "Udn1,Ddn1,Vdn1 = Stable_Bmatrix(phi,ExpT,-Vdiag)\n",
    "\n",
    "B3 = Uup1[-1].dot(np.diag(Dup1[-1])).dot(Vup1[-1])\n",
    "print(np.allclose(B3,B1))\n",
    "\n",
    "phi_t = phi.copy()\n",
    "i= 0\n",
    "GFup, GFdn = Update_HS_test(GFup, GFdn, phi_t[0], i, alpha)\n",
    "dup = np.exp(-2 * alpha * phi_t[0][i]) -1 \n",
    "\n",
    "phi_t[0,i] = -phi_t[0,i]\n",
    "Uup2,Dup2,Vup2 = Stable_Bmatrix(phi_t,ExpT,Vdiag)\n",
    "Udn2,Ddn2,Vdn2 = Stable_Bmatrix(phi_t,ExpT,-Vdiag)\n",
    "B3 = Uup2[-1].dot(np.diag(Dup2[-1])).dot(Vup2[-1])\n",
    "\n",
    "delta = np.zeros((len(phi_t[0]),len(phi_t[0])))\n",
    "delta[i,i] = dup\n",
    "print(dup)\n",
    "print(np.allclose((Ident + delta).dot(ExpM(phi[0],ExpT,Vdiag)), ExpM(phi_t[0],ExpT,Vdiag) ))\n",
    "print(np.allclose(B2.dot((Ident + delta).dot(ExpM(phi[0],ExpT,Vdiag))), B3))\n",
    "print(np.allclose(ExpM(phi_t[1],ExpT,Vdiag).dot(ExpM(phi_t[0],ExpT,Vdiag)), B3))\n",
    "print(np.allclose(B2.dot((Ident + delta).dot(ExpM(phi[0],ExpT,Vdiag))), ExpM(phi_t[1],ExpT,Vdiag).dot(ExpM(phi_t[0],ExpT,Vdiag))))\n",
    "\n",
    "print(np.allclose((Ident + delta).dot(B1), B3))\n",
    "\n"
   ]
  },
  {
   "cell_type": "code",
   "execution_count": 698,
   "metadata": {},
   "outputs": [],
   "source": [
    "Uup,Dup,Vup = Stable_Bmatrix(phi,ExpT,Vdiag)\n",
    "Udn,Ddn,Vdn = Stable_Bmatrix(phi,ExpT,-Vdiag)\n",
    "GFup = GF(Vup[0],Dup[0],Uup[0],Uup[-1],Dup[-1],Vup[-1])\n",
    "GFdn = GF(Vdn[0],Ddn[0],Udn[0],Udn[-1],Ddn[-1],Vdn[-1])"
   ]
  },
  {
   "cell_type": "code",
   "execution_count": 712,
   "metadata": {},
   "outputs": [
    {
     "name": "stdout",
     "output_type": "stream",
     "text": [
      "True\n",
      "1.5126788710517758e-15\n"
     ]
    }
   ],
   "source": [
    "Uup,Dup,Vup = Stable_Bmatrix(phi,ExpT,Vdiag)\n",
    "Udn,Ddn,Vdn = Stable_Bmatrix(phi,ExpT,-Vdiag)\n",
    "GFup = GF(Vup[0],Dup[0],Uup[0],Uup[-1],Dup[-1],Vup[-1])\n",
    "GFdn = GF(Vdn[0],Ddn[0],Udn[0],Udn[-1],Ddn[-1],Vdn[-1])\n",
    "\n",
    "phi_t = phi.copy()\n",
    "GFup, GFdn = Update_HS_test(GFup, GFdn, phi_t[-1], 4, alpha)\n",
    "phi_t[-1,4] = -phi_t[-1,4]\n",
    "Uup1,Dup1,Vup1 = Stable_Bmatrix(phi_t,ExpT,Vdiag)\n",
    "Udn1,Ddn1,Vdn1 = Stable_Bmatrix(phi_t,ExpT,-Vdiag)\n",
    "GFup1 = GF(Vup1[0],Dup1[0],Uup1[0],Uup1[-1],Dup1[-1],Vup1[-1])\n",
    "GFdn1 = GF(Vdn1[0],Ddn1[0],Udn1[0],Udn1[-1],Ddn1[-1],Vdn1[-1])\n",
    "print(np.allclose(GFup2,GFup1))\n",
    "print(np.abs(GFup2-GFup1).max())"
   ]
  },
  {
   "cell_type": "code",
   "execution_count": 752,
   "metadata": {},
   "outputs": [],
   "source": [
    "def Update_HS_test(GFup, GFdn, phi, i, alpha):\n",
    "    Ident = np.eye(len(phi))\n",
    "    dup = np.exp(-2 * alpha * phi[i]) -1 \n",
    "    ddn = np.exp(2 * alpha * phi[i]) -1\n",
    "    Rup = 1 + dup * (1 - GFup[i,i])\n",
    "    Rdn = 1 + ddn * (1 - GFdn[i,i])\n",
    "    print(Rup,Rdn,dup,ddn)\n",
    "    GFup1 = GFup.copy()\n",
    "    GFdn1 = GFdn.copy()\n",
    "    GFup1 -= dup * np.outer(GFup[:,i], Ident[i]-GFup[i,:])/Rup\n",
    "    GFdn1 -= ddn * np.outer(GFdn[:,i], Ident[i]-GFdn[i,:])/Rdn\n",
    "\n",
    "    return GFup1, GFdn1\n",
    "def Update_HS(GFup, GFdn, phi, alpha):\n",
    "    Ident = np.eye(len(phi))\n",
    "    for i in range(2):\n",
    "        dup = np.exp(-2 * alpha * phi[i]) -1 \n",
    "        ddn = np.exp(2 * alpha * phi[i]) -1\n",
    "        Rup = 1 + dup * (1 - GFup[i,i])\n",
    "        Rdn = 1 + ddn * (1 - GFdn[i,i])\n",
    "        print(Rup,Rdn,dup,ddn)\n",
    "        GFup -= dup * np.outer(GFup[:,i], Ident[i]-GFup[i,:])/Rup\n",
    "        GFdn -= ddn * np.outer(GFdn[:,i], Ident[i]-GFdn[i,:])/Rdn\n",
    "        phi[i] = -phi[i]\n",
    "    \n",
    "    return GFup, GFdn, phi"
   ]
  },
  {
   "cell_type": "code",
   "execution_count": 758,
   "metadata": {},
   "outputs": [
    {
     "name": "stdout",
     "output_type": "stream",
     "text": [
      "True\n",
      "1.5543122344752192e-15\n"
     ]
    }
   ],
   "source": [
    "Uup,Dup,Vup = Stable_Bmatrix(phi,ExpT,Vdiag)\n",
    "Udn,Ddn,Vdn = Stable_Bmatrix(phi,ExpT,-Vdiag)\n",
    "GFup = GF(Vup[0],Dup[0],Uup[0],Uup[-1],Dup[-1],Vup[-1])\n",
    "GFdn = GF(Vdn[0],Ddn[0],Udn[0],Udn[-1],Ddn[-1],Vdn[-1])\n",
    "\n",
    "phi_t = phi.copy()\n",
    "GFup, GFdn, phi_t[-1] = Update_HS(GFup, GFdn, phi_t[-1], alpha)\n",
    "Uup1,Dup1,Vup1 = Stable_Bmatrix(phi_t,ExpT,Vdiag)\n",
    "Udn1,Ddn1,Vdn1 = Stable_Bmatrix(phi_t,ExpT,-Vdiag)\n",
    "GFup1 = GF(Vup1[0],Dup1[0],Uup1[0],Uup1[-1],Dup1[-1],Vup1[-1])\n",
    "GFdn1 = GF(Vdn1[0],Ddn1[0],Udn1[0],Udn1[-1],Ddn1[-1],Vdn1[-1])\n",
    "print(np.allclose(GFup,GFup1))\n",
    "print(np.abs(GFup-GFup1).max())"
   ]
  },
  {
   "cell_type": "code",
   "execution_count": null,
   "metadata": {},
   "outputs": [],
   "source": [
    "2.3483602604135703 0.635242366810872 2.6967941420581276 -0.7294953514930461\n",
    "2.3334606785685095 0.6312119606609723 2.6967941420581276 -0.7294953514930461"
   ]
  },
  {
   "cell_type": "code",
   "execution_count": 739,
   "metadata": {},
   "outputs": [
    {
     "data": {
      "text/plain": [
       "array([ 1,  1,  1, -1,  1, -1,  1,  1,  1, -1,  1,  1,  1, -1,  1,  1])"
      ]
     },
     "execution_count": 739,
     "metadata": {},
     "output_type": "execute_result"
    }
   ],
   "source": [
    "phi_t[-1]"
   ]
  },
  {
   "cell_type": "code",
   "execution_count": 716,
   "metadata": {},
   "outputs": [],
   "source": [
    "def Update_HS_test(GFup, GFdn, phi, i, alpha):\n",
    "    Ident = np.eye(len(phi))\n",
    "    dup = np.exp(-2 * alpha * phi[i]) -1 \n",
    "    ddn = np.exp(2 * alpha * phi[i]) -1\n",
    "    Rup = 1 + dup * (1 - GFup[i,i])\n",
    "    Rdn = 1 + ddn * (1 - GFdn[i,i])\n",
    "    print(Rup,Rdn,dup,ddn)\n",
    "    GFup1 = GFup.copy()\n",
    "    GFdn1 = GFdn.copy()\n",
    "    GFup1 -= dup * np.outer(GFup[:,i], Ident[i]-GFup[i,:])/Rup\n",
    "    GFdn1 -= ddn * np.outer(GFdn[:,i], Ident[i]-GFdn[i,:])/Rdn\n",
    "\n",
    "    return GFup1, GFdn1"
   ]
  },
  {
   "cell_type": "code",
   "execution_count": 747,
   "metadata": {},
   "outputs": [
    {
     "name": "stdout",
     "output_type": "stream",
     "text": [
      "2.3483602604135703 0.635242366810872 2.6967941420581276 -0.7294953514930461\n",
      "2.3334606785685095 0.6312119606609723 2.6967941420581276 -0.7294953514930461\n",
      "True\n",
      "1.8967032805461415e-15\n"
     ]
    }
   ],
   "source": [
    "Uup,Dup,Vup = Stable_Bmatrix(phi,ExpT,Vdiag)\n",
    "Udn,Ddn,Vdn = Stable_Bmatrix(phi,ExpT,-Vdiag)\n",
    "GFup = GF(Vup[0],Dup[0],Uup[0],Uup[-1],Dup[-1],Vup[-1])\n",
    "GFdn = GF(Vdn[0],Ddn[0],Udn[0],Udn[-1],Ddn[-1],Vdn[-1])\n",
    "\n",
    "phi_t = phi.copy()\n",
    "for i in range(2):\n",
    "    if np.random.rand():\n",
    "        GFup, GFdn = Update_HS_test(GFup, GFdn, phi_t[-1], i, alpha)\n",
    "        phi_t[-1,i] = -phi_t[-1,i]\n",
    "\n",
    "Uup1,Dup1,Vup1 = Stable_Bmatrix(phi_t,ExpT,Vdiag)\n",
    "Udn1,Ddn1,Vdn1 = Stable_Bmatrix(phi_t,ExpT,-Vdiag)\n",
    "GFup1 = GF(Vup1[0],Dup1[0],Uup1[0],Uup1[-1],Dup1[-1],Vup1[-1])\n",
    "GFdn1 = GF(Vdn1[0],Ddn1[0],Udn1[0],Udn1[-1],Ddn1[-1],Vdn1[-1])\n",
    "print(np.allclose(GFup,GFup1))\n",
    "print(np.abs(GFup-GFup1).max())"
   ]
  },
  {
   "cell_type": "code",
   "execution_count": null,
   "metadata": {},
   "outputs": [],
   "source": [
    "def ExpM(phi,ExpT,Vdiag):\n",
    "    # T = exp(-T*dtau)\n",
    "    return np.diag(np.exp(phi * Vdiag)).dot(ExpT)"
   ]
  },
  {
   "cell_type": "code",
   "execution_count": null,
   "metadata": {},
   "outputs": [],
   "source": [
    "def SVD_stablizer_back(A,U,D,V):\n",
    "    # B = U * D * V\n",
    "    # B * A = U * D * V * B = U * U1 * D1 * V1 = U2 * D1 * V1\n",
    "    U1, D, V = LA.svd(np.diag(D).dot(V).dot(A))\n",
    "    return U.dot(U1), D, V\n",
    "    \n",
    "def SVD_stablizer_forward(A,U,D,V):\n",
    "    # B = U * D * V\n",
    "    # A * B = A * U * D * V = U1 * D1 * V1 * V = U1 * D1 * V2\n",
    "    U, D, V1 = LA.svd(A.dot(U.dot(np.diag(D))))\n",
    "    return U, D, V1.dot(V)"
   ]
  },
  {
   "cell_type": "code",
   "execution_count": 431,
   "metadata": {},
   "outputs": [
    {
     "data": {
      "text/plain": [
       "True"
      ]
     },
     "execution_count": 431,
     "metadata": {},
     "output_type": "execute_result"
    }
   ],
   "source": [
    "np.allclose(Uup1[-2].dot(np.diag(Dup1[-2])).dot(Vup1[-2]), Uup[-2].dot(np.diag(Dup[-2])).dot(Vup[-2]))"
   ]
  },
  {
   "cell_type": "code",
   "execution_count": 430,
   "metadata": {},
   "outputs": [
    {
     "name": "stdout",
     "output_type": "stream",
     "text": [
      "[[ 1 -1  1 -1  1  1  1  1  1  1 -1 -1 -1  1  1  1]\n",
      " [ 1  1 -1  1  1  1 -1  1 -1 -1 -1 -1 -1  1 -1 -1]]\n",
      "[[ 1 -1  1 -1  1  1  1  1  1  1 -1 -1 -1  1  1  1]\n",
      " [-1  1 -1  1  1  1 -1  1 -1 -1 -1 -1 -1  1 -1 -1]]\n"
     ]
    }
   ],
   "source": [
    "print(phi_t)\n",
    "print(phi)"
   ]
  },
  {
   "cell_type": "code",
   "execution_count": 550,
   "metadata": {},
   "outputs": [
    {
     "name": "stdout",
     "output_type": "stream",
     "text": [
      "[[ 1 -1  1 -1  1  1  1  1  1  1 -1 -1 -1  1  1  1]\n",
      " [-1  1 -1  1  1  1 -1  1 -1 -1 -1 -1 -1  1 -1 -1]]\n",
      "2.6967941420581276 -0.7294953514930461 3.5182946563826096 0.9517150593686718\n",
      "-0.7294953514930461 2.6967941420581276 0.9989265861229224 3.692825951925343\n",
      "2.6967941420581276 -0.7294953514930461 3.6957431456884384 0.9997157005964352\n",
      "-0.7294953514930461 2.6967941420581276 0.9855585786788038 3.6434071803149357\n",
      "-0.7294953514930461 2.6967941420581276 0.9961884753056004 3.6827037198955614\n",
      "-0.7294953514930461 2.6967941420581276 0.9505547450857379 3.514005213338514\n",
      "2.6967941420581276 -0.7294953514930461 3.642670294119625 0.9853592475375514\n",
      "-0.7294953514930461 2.6967941420581276 0.8506052057389052 3.144512341779731\n",
      "2.6967941420581276 -0.7294953514930461 3.505824390924964 0.948341794594263\n",
      "2.6967941420581276 -0.7294953514930461 3.6431250330512404 0.9854822565324105\n",
      "2.6967941420581276 -0.7294953514930461 3.681695444940936 0.995915732243401\n",
      "2.6967941420581276 -0.7294953514930461 3.5147962860007826 0.9507687339181893\n",
      "2.6967941420581276 -0.7294953514930461 3.646140502010015 0.9862979549031875\n",
      "-0.7294953514930461 2.6967941420581276 0.996426992473082 3.6835854687630873\n",
      "2.6967941420581276 -0.7294953514930461 3.6927111523778082 0.9988955323116677\n",
      "2.6967941420581276 -0.7294953514930461 3.641131054523002 0.984942876071499\n"
     ]
    }
   ],
   "source": [
    "phi_t = phi.copy()\n",
    "print(phi_t)\n",
    "for i in range(16):\n",
    "    if np.random.rand() < 0.5:\n",
    "        GFup, GFdn = Update_HS_test(GFup, GFdn, phi_t[-1], i, alpha)\n",
    "        phi_t[-1][i] = -phi_t[-1][i]"
   ]
  },
  {
   "cell_type": "code",
   "execution_count": 551,
   "metadata": {},
   "outputs": [],
   "source": [
    "Uup1,Dup1,Vup1 = Stable_Bmatrix(phi_t,ExpT,Vdiag)\n",
    "Udn1,Ddn1,Vdn1 = Stable_Bmatrix(phi_t,ExpT,-Vdiag)\n",
    "GFup1 = GF(Vup1[0],Dup1[0],Uup1[0],Uup1[-1],Dup1[-1],Vup1[-1])\n",
    "GFdn1 = GF(Vdn1[0],Ddn1[0],Udn1[0],Udn1[-1],Ddn1[-1],Vdn1[-1])"
   ]
  },
  {
   "cell_type": "code",
   "execution_count": 552,
   "metadata": {},
   "outputs": [
    {
     "name": "stdout",
     "output_type": "stream",
     "text": [
      "False\n",
      "0.49831819595021043\n"
     ]
    }
   ],
   "source": [
    "print(np.allclose(GFup,GFup1))\n",
    "print(np.abs(GFup - GFup1).max())"
   ]
  },
  {
   "cell_type": "code",
   "execution_count": 89,
   "metadata": {},
   "outputs": [
    {
     "name": "stdout",
     "output_type": "stream",
     "text": [
      "[-1 -1 -1  1  1 -1 -1  1 -1 -1 -1  1  1  1 -1  1]\n"
     ]
    }
   ],
   "source": [
    "GFup, GFdn, _  = Update_HS(GFup, GFdn, phi[-1],alpha)"
   ]
  },
  {
   "cell_type": "code",
   "execution_count": 142,
   "metadata": {},
   "outputs": [],
   "source": [
    "def update_gr_lowrank(gr, i,  phi, alpha):\n",
    "    gr = np.array(gr)\n",
    "    L = gr[0].shape[0]\n",
    "    ratio = np.zeros(2, dtype=np.float64)\n",
    "    gamma = np.zeros(2, dtype=np.float64)\n",
    "    bb = [+1, - 1]\n",
    "    for s in np.arange(2):\n",
    "        gamma[s] = np.exp(-2* phi[i] * alpha * bb[s]) -1\n",
    "        ratio[s] = 1 + (1 - gr[s, i, i]) * gamma[s]\n",
    "\n",
    "    gr_old = gr.copy()  \n",
    "    for s in np.arange(2):\n",
    "        for j in np.arange(L):\n",
    "            for k in np.arange(L):\n",
    "                if (i == k):\n",
    "                    gr[s, j, k] = gr_old[s, j, k] \\\n",
    "                        - ((1.0 - gr_old[s, i, k]) * gamma[s] * gr_old[s, j, i]) / ratio[s]\n",
    "                else:\n",
    "                    gr[s, j, k] = gr_old[s, j, k]  \\\n",
    "                        + (gr_old[s, i, k] * gamma[s] * gr_old[s, j, i]) / ratio[s]\n",
    "    return gr"
   ]
  },
  {
   "cell_type": "code",
   "execution_count": 718,
   "metadata": {},
   "outputs": [],
   "source": [
    "Uup,Dup,Vup = Stable_Bmatrix(phi,ExpT,Vdiag)\n",
    "Udn,Ddn,Vdn = Stable_Bmatrix(phi,ExpT,-Vdiag)\n",
    "GFup = GF(Vup[0],Dup[0],Uup[0],Uup[-1],Dup[-1],Vup[-1])\n",
    "GFdn = GF(Vdn[0],Ddn[0],Udn[0],Udn[-1],Ddn[-1],Vdn[-1])"
   ]
  },
  {
   "cell_type": "code",
   "execution_count": 719,
   "metadata": {},
   "outputs": [],
   "source": [
    "phi_t = phi.copy()\n",
    "i = 0\n",
    "Ident = np.eye(len(phi_t[-1]))\n",
    "dup = np.exp(-2 * alpha * phi_t[-1][i]) -1 \n",
    "ddn = np.exp(2 * alpha * phi_t[-1][i]) -1\n",
    "Rup = 1 + dup * (1 - GFup[i,i])\n",
    "Rdn = 1 + ddn * (1 - GFdn[i,i])\n",
    "GFup1 = GFup.copy()\n",
    "GFdn1 = GFdn.copy()\n",
    "\n",
    "GFup1 -= dup * np.outer(GFup[:,i], Ident[i]-GFup[i,:])/Rup\n",
    "GFdn1 -= ddn * np.outer(GFdn[:,i], Ident[i]-GFdn[i,:])/Rdn"
   ]
  },
  {
   "cell_type": "code",
   "execution_count": 720,
   "metadata": {},
   "outputs": [
    {
     "name": "stdout",
     "output_type": "stream",
     "text": [
      "2.3483602604135703 0.635242366810872 2.6967941420581276 -0.7294953514930461\n"
     ]
    }
   ],
   "source": [
    "print(Rup,Rdn, dup, ddn)"
   ]
  },
  {
   "cell_type": "code",
   "execution_count": 708,
   "metadata": {},
   "outputs": [],
   "source": [
    "delta = np.zeros((len(phi_t[-1]),len(phi_t[-1])))\n",
    "delta[i,i] = dup"
   ]
  },
  {
   "cell_type": "code",
   "execution_count": 709,
   "metadata": {},
   "outputs": [],
   "source": [
    "phi_t[-1,i] = -phi_t[-1,i]\n",
    "Uup1,Dup1,Vup1 = Stable_Bmatrix(phi_t,ExpT,Vdiag)\n",
    "Udn1,Ddn1,Vdn1 = Stable_Bmatrix(phi_t,ExpT,-Vdiag)\n",
    "GFup2 = GF(Vup1[-1],Dup1[-1],Uup1[-1],Uup1[0],Dup1[0],Vup1[0])\n",
    "GFdn2 = GF(Vdn1[-1],Ddn1[-1],Udn1[-1],Udn1[0],Ddn1[0],Vdn1[0])"
   ]
  },
  {
   "cell_type": "code",
   "execution_count": 710,
   "metadata": {},
   "outputs": [
    {
     "name": "stdout",
     "output_type": "stream",
     "text": [
      "True\n",
      "1.1726730697603216e-15\n"
     ]
    }
   ],
   "source": [
    "print(np.allclose(GFup1,GFup2))\n",
    "print(np.max(np.abs(GFup1-GFup2)))"
   ]
  },
  {
   "cell_type": "code",
   "execution_count": 692,
   "metadata": {},
   "outputs": [
    {
     "data": {
      "text/plain": [
       "True"
      ]
     },
     "execution_count": 692,
     "metadata": {},
     "output_type": "execute_result"
    }
   ],
   "source": [
    "np.allclose(ExpM(phi_t[-1],ExpT,Vdiag), (Ident + delta).dot(ExpM(phi[-1],ExpT,Vdiag)))"
   ]
  },
  {
   "cell_type": "code",
   "execution_count": 693,
   "metadata": {},
   "outputs": [
    {
     "data": {
      "text/plain": [
       "True"
      ]
     },
     "execution_count": 693,
     "metadata": {},
     "output_type": "execute_result"
    }
   ],
   "source": [
    "np.allclose(ExpM(phi_t[-1],np.eye(16),Vdiag), (Ident + delta).dot(ExpM(phi[-1],np.eye(16),Vdiag)))"
   ]
  },
  {
   "cell_type": "code",
   "execution_count": 677,
   "metadata": {},
   "outputs": [
    {
     "data": {
      "text/plain": [
       "array([1.        , 1.        , 1.        , 1.        , 3.69679414,\n",
       "       1.        , 1.        , 1.        , 1.        , 1.        ,\n",
       "       1.        , 1.        , 1.        , 1.        , 1.        ,\n",
       "       1.        ])"
      ]
     },
     "execution_count": 677,
     "metadata": {},
     "output_type": "execute_result"
    }
   ],
   "source": [
    "np.diag(ExpM(phi_t[-1],np.eye(16),Vdiag))/np.diag(ExpM(phi[-1],np.eye(16),Vdiag))"
   ]
  },
  {
   "cell_type": "code",
   "execution_count": 523,
   "metadata": {},
   "outputs": [
    {
     "name": "stdout",
     "output_type": "stream",
     "text": [
      "2.6967941420581276 -0.7294953514930461 2.329807485420126 0.630223754932441\n",
      "2.6967941420581276 -0.7294953514930461 2.329807485420126 0.630223754932441\n"
     ]
    },
    {
     "data": {
      "text/plain": [
       "True"
      ]
     },
     "execution_count": 523,
     "metadata": {},
     "output_type": "execute_result"
    }
   ],
   "source": [
    "phi_t = phi.copy()\n",
    "GFup3, GFdn3 = Update_HS_test(GFup, GFdn, phi_t[-1], 0, alpha)\n",
    "print(dup,ddn,Rup,Rdn)\n",
    "np.allclose(GFup1,GFup3)"
   ]
  },
  {
   "cell_type": "code",
   "execution_count": null,
   "metadata": {},
   "outputs": [],
   "source": []
  }
 ],
 "metadata": {
  "kernelspec": {
   "display_name": "base",
   "language": "python",
   "name": "python3"
  },
  "language_info": {
   "codemirror_mode": {
    "name": "ipython",
    "version": 3
   },
   "file_extension": ".py",
   "mimetype": "text/x-python",
   "name": "python",
   "nbconvert_exporter": "python",
   "pygments_lexer": "ipython3",
   "version": "3.8.12"
  },
  "orig_nbformat": 4
 },
 "nbformat": 4,
 "nbformat_minor": 2
}
