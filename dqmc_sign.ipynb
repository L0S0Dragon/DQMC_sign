{
 "cells": [
  {
   "cell_type": "code",
   "execution_count": 3,
   "metadata": {},
   "outputs": [],
   "source": [
    "import numpy as np\n",
    "import numpy.linalg as LA\n",
    "import matplotlib.pyplot as plt\n",
    "import scipy.linalg as sla"
   ]
  },
  {
   "cell_type": "code",
   "execution_count": 4,
   "metadata": {},
   "outputs": [],
   "source": [
    "# define lattice and generate hopping matrix with OBC"
   ]
  },
  {
   "cell_type": "code",
   "execution_count": 5,
   "metadata": {},
   "outputs": [],
   "source": [
    "from pythtb import *\n",
    "def Tmatrix(t,mu):\n",
    "\n",
    "    # set model parameters\n",
    "    mu=0.0\n",
    "    t=-1.0\n",
    "    lat=[[1.0,0.0],[0.0,1.0]]\n",
    "    orb=[[0.0,0.0]]\n",
    "\n",
    "    # create TB model\n",
    "    my_model=tb_model(2,2,lat,orb)\n",
    "    \n",
    "    # set on-site energies\n",
    "    my_model.set_onsite([-mu])\n",
    "    # set hopping terms (one for each nearest neighbor)\n",
    "    my_model.set_hop(t, 0, 0, [1, 0])\n",
    "    my_model.set_hop(t, 0, 0, [0, 1])\n",
    "\n",
    "    # create a 4x4 lattice\n",
    "    Nx, Ny = 4, 4\n",
    "    my_ham = my_model.cut_piece(Nx,0,glue_edgs=False)\n",
    "    my_ham = my_ham.cut_piece(Ny,1,glue_edgs=False)\n",
    "    # print Hamiltonian\n",
    "    return my_ham._gen_ham()\n"
   ]
  },
  {
   "cell_type": "code",
   "execution_count": 120,
   "metadata": {},
   "outputs": [],
   "source": [
    "def ExpM(phi,ExpT,Vdiag):\n",
    "    # T = exp(-T*dtau)\n",
    "    return np.diag(phi * Vdiag).dot(ExpT)"
   ]
  },
  {
   "cell_type": "code",
   "execution_count": 8,
   "metadata": {},
   "outputs": [],
   "source": [
    "def SVD_stablizer_back(A,U,D,V):\n",
    "    # B = U * D * V\n",
    "    # B * A = U * D * V * B = U * U1 * D1 * V1 = U2 * D1 * V1\n",
    "    U1, D, V = LA.svd(np.diag(D).dot(V).dot(A))\n",
    "    return U.dot(U1), D, V\n",
    "    \n",
    "def SVD_stablizer_forward(A,U,D,V):\n",
    "    # B = U * D * V\n",
    "    # A * B = A * U * D * V = U1 * D1 * V1 * V = U1 * D1 * V2\n",
    "    U, D, V1 = LA.svd(A.dot(U).dot(np.diag(D)))\n",
    "    return U, D, V1.dot(V)"
   ]
  },
  {
   "cell_type": "code",
   "execution_count": 71,
   "metadata": {},
   "outputs": [],
   "source": [
    "def GF(UL,DL,VL,UR,DR,VR):\n",
    "    # B(t,0) = UL * DL * VL\n",
    "    # B(beta,t) = VR * DR * UR Take care of it !!!\n",
    "    U,D,V = LA.svd(LA.inv(UL.dot(UR))+np.diag(DR).dot(VR.dot(VL)).dot(np.diag(DL)))\n",
    "    return LA.inv(V.dot(UL)).dot(np.diag(1/D)).dot(LA.inv(UR.dot(U)))"
   ]
  },
  {
   "cell_type": "code",
   "execution_count": 38,
   "metadata": {},
   "outputs": [],
   "source": [
    "def Stable_Bmatrix(phi,ExpT,Vdiag):\n",
    "    # use SVD algorithm to calculate the stable B matrix\n",
    "    # ExpT: the matrix of exp(-dtau * T)\n",
    "    # Vdiag: Ntau x L matrix with each column being - alpha \n",
    "    Ntau, L = phi.shape\n",
    "    U = np.zeros((Ntau+1,L,L))\n",
    "    D = np.zeros((Ntau+1,L))\n",
    "    V = np.zeros((Ntau+1,L,L))\n",
    "\n",
    "    U[0],D[0],V[0] = LA.svd(np.eye(L))\n",
    "    for i in range(Ntau):\n",
    "        U[i+1], D[i+1], V[i+1] = SVD_stablizer_forward(ExpM(phi[i], ExpT, Vdiag),U[i],D[i],V[i])\n",
    "    return U,D,V"
   ]
  },
  {
   "cell_type": "code",
   "execution_count": 128,
   "metadata": {},
   "outputs": [],
   "source": [
    "def Update_HS(GFup, GFdn, phi, alpha):\n",
    "    Ident = np.eye(len(phi))\n",
    "    for i in range(len(phi)):\n",
    "        dup = np.exp(-2 * alpha * phi[i]) -1 \n",
    "        ddn = np.exp(2 * alpha * phi[i]) -1\n",
    "        R = (1 + dup * (1 - GFup[i,i]))*(1 + ddn * (1 - GFdn[i,i]))\n",
    "        \n",
    "        if  np.abs(R) > np.random.rand():\n",
    "            phi[i] = -phi[i]\n",
    "            GFup -= dup * np.outer(GFup[:,i], Ident[i]-GFup[i,:])/R\n",
    "            GFdn -= ddn * np.outer(GFdn[:,i], Ident[i]-GFdn[i,:])/R\n",
    "        \n",
    "    return GFup, GFdn, phi"
   ]
  },
  {
   "cell_type": "code",
   "execution_count": 169,
   "metadata": {},
   "outputs": [],
   "source": [
    "def Sweep_backward(GFup,GFdn,Uup,Dup,Vup,Udn,Ddn,Vdn,phi,ExpT,Vdiag,Nstable,alpha):\n",
    "    # Input GFup, GFdn should be G(0,0) = G(\\beta,\\beta)\n",
    "    # The first member of U, D, V should be the result of I = B(0,0) or B(\\beta, \\beta)\n",
    "    Ntau = len(phi) \n",
    "    ind_revered = np.roll(np.arange(Ntau+1)[::-1], shift=1)\n",
    "\n",
    "    for n in range(1,Ntau+1):\n",
    "        i = ind_revered[n]\n",
    "        i_1 = ind_revered[n-1]\n",
    "        if np.mod(n,Nstable) == 0:\n",
    "            # recompute equal time GF to avoid accumulation of numerical error\n",
    "            GFup_recomputed = GF(Vup[i_1],Dup[i_1],Uup[i_1],Uup[i],Dup[i],Vup[i])\n",
    "            GFdn_recomputed = GF(Vdn[i_1],Ddn[i_1],Udn[i_1],Udn[i],Dup[i],Vdn[i])\n",
    "\n",
    "            # compare with advanced one to get the accumulated error\n",
    "            GFup_error = np.max(np.abs(GFup_recomputed - GFup))\n",
    "            GFdn_error = np.max(np.abs(GFdn_recomputed - GFdn))\n",
    "            x = np.argmax(np.abs(GFup_recomputed - GFup))\n",
    "            x1 = np.argmax(np.abs(GFdn_recomputed - GFdn))\n",
    "            print(\"Error of Green function: \", (GFup_error + GFdn_error)/2)\n",
    "            print(GFup.reshape(16*16)[x])\n",
    "            print(GFdn.reshape(16*16)[x1])\n",
    "            print(GFup_recomputed.reshape(16*16)[x])\n",
    "            print(GFdn_recomputed.reshape(16*16)[x1])\n",
    "            GFup = GFup_recomputed\n",
    "            GFdn = GFdn_recomputed\n",
    "        \n",
    "        # Update H-S field and Green function\n",
    "        GFup, GFdn, phi[i-1] = Update_HS(GFup, GFdn, phi[i-1], alpha)\n",
    "\n",
    "        # Update SVD decompostion for B matrix\n",
    "        Bup = ExpM(phi[i-1], ExpT,  Vdiag)\n",
    "        Bdn = ExpM(phi[i-1], ExpT, -Vdiag)\n",
    "\n",
    "        # Advance equal time GF using new H-S field\n",
    "        GFup = LA.inv(Bup).dot(GFup).dot(Bup)\n",
    "        GFdn = LA.inv(Bdn).dot(GFdn).dot(Bdn)\n",
    "\n",
    "        # Repalce SVD decomposition of B matrix\n",
    "        Uup[i], Dup[i], Vup[i] = SVD_stablizer_back(Bup, Uup[i_1], Dup[i_1], Vup[i_1])\n",
    "        Udn[i], Ddn[i], Vdn[i] = SVD_stablizer_back(Bdn, Udn[i_1], Ddn[i_1], Vdn[i_1])\n",
    "\n",
    "    return None\n"
   ]
  },
  {
   "cell_type": "code",
   "execution_count": 162,
   "metadata": {},
   "outputs": [],
   "source": [
    "def Sweep_forward(GFup,GFdn,Uup,Dup,Vup,Udn,Ddn,Vdn,phi,ExpT,Vdiag,Nstable,alpha):\n",
    "    # Input GFup, GFdn should be G(0,0) = G(\\beta,\\beta)\n",
    "    # The first member of U, D, V should be the result of I = B(0,0) or B(\\beta, \\beta)\n",
    "\n",
    "    # reverse the order of U, D, V, and shift B(0,0) to the first one, to make the sweep backward\n",
    "    \n",
    "    Ntau = len(phi) \n",
    "    for i in range(1,Ntau+1):\n",
    "        if np.mod(i,Nstable) == 0:\n",
    "            # recompute equal time GF to avoid accumulation of numerical error\n",
    "            GFup_recomputed = GF(Vup[i],Dup[i],Uup[i],Uup[i-1],Dup[i-1],Vup[i-1])\n",
    "            GFdn_recomputed = GF(Vdn[i],Ddn[i],Udn[i],Udn[i-1],Ddn[i-1],Vdn[i-1])\n",
    "\n",
    "            # compare with advanced one to get the accumulated error\n",
    "            GFup_error = np.max(np.abs(GFup_recomputed - GFup))\n",
    "            GFdn_error = np.max(np.abs(GFdn_recomputed - GFdn))\n",
    "            x = np.argmax(np.abs(GFup_recomputed - GFup))\n",
    "            x1 = np.argmax(np.abs(GFdn_recomputed - GFdn))\n",
    "            print(\"Error of Green function: \", (GFup_error + GFdn_error)/2)\n",
    "            GFup = GFup_recomputed\n",
    "            GFdn = GFdn_recomputed\n",
    "        \n",
    "        # Update H-S field and Green function\n",
    "        GFup, GFdn, phi[i-1] = Update_HS(GFup, GFdn, phi[i-1],alpha)\n",
    "\n",
    "        # Update SVD decompostion for B matrix\n",
    "        Bup = ExpM(phi[i-1], ExpT,  Vdiag)\n",
    "        Bdn = ExpM(phi[i-1], ExpT, -Vdiag)\n",
    "\n",
    "        # Advance equal time GF using new H-S field\n",
    "        GFup = Bup.dot(GFup).dot(LA.inv(Bup))\n",
    "        GFdn = Bdn.dot(GFdn).dot(LA.inv(Bdn))\n",
    "\n",
    "        # Repalce SVD decomposition of B matrix\n",
    "        Uup[i], Dup[i], Vup[i] = SVD_stablizer_forward(Bup, Uup[i-1], Dup[i-1], Vup[i-1])\n",
    "        Udn[i], Ddn[i], Vdn[i] = SVD_stablizer_forward(Bdn, Udn[i-1], Ddn[i-1], Vdn[i-1])\n",
    "\n",
    "    return None"
   ]
  },
  {
   "cell_type": "code",
   "execution_count": 157,
   "metadata": {},
   "outputs": [],
   "source": [
    "L = 4 * 4\n",
    "Ntau = 20\n",
    "Nstable = 5\n",
    "dtau = 0.1\n",
    "U = 4.0\n",
    "t = -1.0\n",
    "mu = 0\n",
    "beta = dtau * Ntau\n",
    "alpha = np.arccosh(np.exp(0.5*dtau*U))\n",
    "T = Tmatrix(t,mu).real\n",
    "ExpT = sla.expm(-dtau * T)\n",
    "Vdiag = np.zeros(L)\n",
    "Vdiag[:] = alpha"
   ]
  },
  {
   "cell_type": "code",
   "execution_count": 168,
   "metadata": {},
   "outputs": [
    {
     "name": "stdout",
     "output_type": "stream",
     "text": [
      "Error of Green function:  0.008397195007179701\n",
      "106\n",
      "0.005380490810763295\n",
      "0.011594467223477808\n",
      "9.17553925314179e-05\n",
      "8.88126273502854e-05\n",
      "Error of Green function:  0.11062943762747873\n",
      "255\n",
      "1.0156804717785766\n",
      "1.205131980267689\n",
      "0.9997769032885555\n",
      "0.9997766735027526\n",
      "Error of Green function:  0.05009433744641449\n",
      "118\n",
      "0.03310322288768238\n",
      "-0.0669973096382627\n",
      "9.813529902775512e-06\n",
      "9.795589678667733e-05\n",
      "Error of Green function:  0.03598252654722712\n",
      "221\n",
      "1.0643291834174449\n",
      "0.007919599976475447\n",
      "1.0003297889530118\n",
      "-4.6058653545756465e-05\n",
      "Error of Green function:  0.017849869189160317\n",
      "204\n"
     ]
    },
    {
     "ename": "IndexError",
     "evalue": "index 204 is out of bounds for axis 0 with size 16",
     "output_type": "error",
     "traceback": [
      "\u001b[0;31m---------------------------------------------------------------------------\u001b[0m",
      "\u001b[0;31mIndexError\u001b[0m                                Traceback (most recent call last)",
      "\u001b[1;32m/home/lsdragon/DQMC_sign/dqmc_sign.ipynb Cell 12\u001b[0m in \u001b[0;36m<cell line: 10>\u001b[0;34m()\u001b[0m\n\u001b[1;32m      <a href='vscode-notebook-cell://wsl%2Bubuntu-22.04/home/lsdragon/DQMC_sign/dqmc_sign.ipynb#X11sdnNjb2RlLXJlbW90ZQ%3D%3D?line=7'>8</a>\u001b[0m \u001b[39m# Sweep\u001b[39;00m\n\u001b[1;32m      <a href='vscode-notebook-cell://wsl%2Bubuntu-22.04/home/lsdragon/DQMC_sign/dqmc_sign.ipynb#X11sdnNjb2RlLXJlbW90ZQ%3D%3D?line=8'>9</a>\u001b[0m Sweep_backward(GFup,GFdn,Uup,Dup,Vup,Udn,Ddn,Vdn,phi,ExpT,Vdiag,Nstable,alpha)\n\u001b[0;32m---> <a href='vscode-notebook-cell://wsl%2Bubuntu-22.04/home/lsdragon/DQMC_sign/dqmc_sign.ipynb#X11sdnNjb2RlLXJlbW90ZQ%3D%3D?line=9'>10</a>\u001b[0m Sweep_forward(GFup,GFdn,Uup,Dup,Vup,Udn,Ddn,Vdn,phi,ExpT,Vdiag,Nstable,alpha)\n",
      "\u001b[1;32m/home/lsdragon/DQMC_sign/dqmc_sign.ipynb Cell 12\u001b[0m in \u001b[0;36mSweep_forward\u001b[0;34m(GFup, GFdn, Uup, Dup, Vup, Udn, Ddn, Vdn, phi, ExpT, Vdiag, Nstable, alpha)\u001b[0m\n\u001b[1;32m     <a href='vscode-notebook-cell://wsl%2Bubuntu-22.04/home/lsdragon/DQMC_sign/dqmc_sign.ipynb#X11sdnNjb2RlLXJlbW90ZQ%3D%3D?line=18'>19</a>\u001b[0m \u001b[39mprint\u001b[39m(\u001b[39m\"\u001b[39m\u001b[39mError of Green function: \u001b[39m\u001b[39m\"\u001b[39m, (GFup_error \u001b[39m+\u001b[39m GFdn_error)\u001b[39m/\u001b[39m\u001b[39m2\u001b[39m)\n\u001b[1;32m     <a href='vscode-notebook-cell://wsl%2Bubuntu-22.04/home/lsdragon/DQMC_sign/dqmc_sign.ipynb#X11sdnNjb2RlLXJlbW90ZQ%3D%3D?line=19'>20</a>\u001b[0m \u001b[39mprint\u001b[39m(x)\n\u001b[0;32m---> <a href='vscode-notebook-cell://wsl%2Bubuntu-22.04/home/lsdragon/DQMC_sign/dqmc_sign.ipynb#X11sdnNjb2RlLXJlbW90ZQ%3D%3D?line=20'>21</a>\u001b[0m \u001b[39mprint\u001b[39m(GFup[x])\n\u001b[1;32m     <a href='vscode-notebook-cell://wsl%2Bubuntu-22.04/home/lsdragon/DQMC_sign/dqmc_sign.ipynb#X11sdnNjb2RlLXJlbW90ZQ%3D%3D?line=21'>22</a>\u001b[0m \u001b[39mprint\u001b[39m(GFdn[x1])\n\u001b[1;32m     <a href='vscode-notebook-cell://wsl%2Bubuntu-22.04/home/lsdragon/DQMC_sign/dqmc_sign.ipynb#X11sdnNjb2RlLXJlbW90ZQ%3D%3D?line=23'>24</a>\u001b[0m GFup \u001b[39m=\u001b[39m GFup_recomputed\n",
      "\u001b[0;31mIndexError\u001b[0m: index 204 is out of bounds for axis 0 with size 16"
     ]
    }
   ],
   "source": [
    "phi = np.random.choice([1, -1], size=(Ntau, L))\n",
    "#part of spin up and spin down are not coupled but direct product\n",
    "Uup,Dup,Vup = Stable_Bmatrix(phi,ExpT,Vdiag)\n",
    "Udn,Ddn,Vdn = Stable_Bmatrix(phi,ExpT,-Vdiag)\n",
    "GFup = GF(Vup[0],Dup[0],Uup[0],Uup[-1],Dup[-1],Vup[-1])\n",
    "GFdn = GF(Vdn[0],Ddn[0],Udn[0],Udn[-1],Ddn[-1],Vdn[-1])\n",
    "\n",
    "# Sweep\n",
    "Sweep_backward(GFup,GFdn,Uup,Dup,Vup,Udn,Ddn,Vdn,phi,ExpT,Vdiag,Nstable,alpha)\n",
    "Sweep_forward(GFup,GFdn,Uup,Dup,Vup,Udn,Ddn,Vdn,phi,ExpT,Vdiag,Nstable,alpha)\n",
    "\n",
    "# Measurement "
   ]
  },
  {
   "cell_type": "code",
   "execution_count": null,
   "metadata": {},
   "outputs": [],
   "source": []
  }
 ],
 "metadata": {
  "kernelspec": {
   "display_name": "base",
   "language": "python",
   "name": "python3"
  },
  "language_info": {
   "codemirror_mode": {
    "name": "ipython",
    "version": 3
   },
   "file_extension": ".py",
   "mimetype": "text/x-python",
   "name": "python",
   "nbconvert_exporter": "python",
   "pygments_lexer": "ipython3",
   "version": "3.8.13"
  },
  "orig_nbformat": 4
 },
 "nbformat": 4,
 "nbformat_minor": 2
}
