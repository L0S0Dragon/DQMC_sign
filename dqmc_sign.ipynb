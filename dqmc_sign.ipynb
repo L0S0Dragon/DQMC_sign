{
 "cells": [
  {
   "cell_type": "code",
   "execution_count": 44,
   "metadata": {},
   "outputs": [],
   "source": [
    "import numpy as np\n",
    "import numpy.linalg as LA\n",
    "import matplotlib.pyplot as plt\n",
    "import scipy.linalg as sla"
   ]
  },
  {
   "cell_type": "code",
   "execution_count": 45,
   "metadata": {},
   "outputs": [],
   "source": [
    "# define lattice and generate hopping matrix with OBC"
   ]
  },
  {
   "cell_type": "code",
   "execution_count": 53,
   "metadata": {},
   "outputs": [],
   "source": [
    "from pythtb import tb_model\n",
    "def Tmatrix(t,mu):\n",
    "\n",
    "    # set model parameters\n",
    "    lat=[[1.0,0.0],[0.0,1.0]]\n",
    "    orb=[[0.0,0.0]]\n",
    "\n",
    "    # create TB model\n",
    "    my_model=tb_model(2,2,lat,orb)\n",
    "    \n",
    "    # set on-site energies\n",
    "    my_model.set_onsite([-mu])\n",
    "    # set hopping terms (one for each nearest neighbor)\n",
    "    my_model.set_hop(t, 0, 0, [1, 0])\n",
    "    my_model.set_hop(t, 0, 0, [0, 1])\n",
    "    print(my_model._site_energies_specified)\n",
    "    # create a 4x4 lattice\n",
    "    Nx, Ny = 4, 4\n",
    "    my_ham = my_model.cut_piece(Nx,0,glue_edgs=False)\n",
    "    my_ham = my_ham.cut_piece(Ny,1,glue_edgs=False)\n",
    "    # print Hamiltonian\n",
    "    return my_ham._gen_ham()\n"
   ]
  },
  {
   "cell_type": "code",
   "execution_count": 4,
   "metadata": {},
   "outputs": [],
   "source": [
    "def ExpM(phi,ExpT,Vdiag):\n",
    "    # T = exp(-T*dtau)\n",
    "    return np.diag(np.exp(phi * Vdiag)).dot(ExpT)"
   ]
  },
  {
   "cell_type": "code",
   "execution_count": 5,
   "metadata": {},
   "outputs": [],
   "source": [
    "def SVD_stablizer_back(A,U,D,V):\n",
    "    # B = U * D * V\n",
    "    # B * A = U * D * V * B = U * U1 * D1 * V1 = U2 * D1 * V1\n",
    "    U1, D, V = LA.svd(np.diag(D).dot(V).dot(A))\n",
    "    return U.dot(U1), D, V\n",
    "    \n",
    "def SVD_stablizer_forward(A,U,D,V):\n",
    "    # B = U * D * V\n",
    "    # A * B = A * U * D * V = U1 * D1 * V1 * V = U1 * D1 * V2\n",
    "    U, D, V1 = LA.svd(A.dot(U.dot(np.diag(D))))\n",
    "    return U, D, V1.dot(V)"
   ]
  },
  {
   "cell_type": "code",
   "execution_count": 6,
   "metadata": {},
   "outputs": [],
   "source": [
    "def GF(UL,DL,VL,UR,DR,VR):\n",
    "    # B(t,0) = UL * DL * VL\n",
    "    # B(beta,t) = VR * DR * UR Take care of it !!!\n",
    "    U,D,V = LA.svd(LA.inv(UL.dot(UR))+np.diag(DR).dot(VR.dot(VL)).dot(np.diag(DL)))\n",
    "    return LA.inv(V.dot(UL)).dot(np.diag(1/D)).dot(LA.inv(UR.dot(U)))"
   ]
  },
  {
   "cell_type": "code",
   "execution_count": 7,
   "metadata": {},
   "outputs": [],
   "source": [
    "def Stable_Bmatrix(phi,ExpT,Vdiag):\n",
    "    # use SVD algorithm to calculate the stable B matrix\n",
    "    # ExpT: the matrix of exp(-dtau * T)\n",
    "    # Vdiag: Ntau x L matrix with each column being - alpha \n",
    "    Ntau, L = phi.shape\n",
    "    U = np.zeros((Ntau+1,L,L))\n",
    "    D = np.zeros((Ntau+1,L))\n",
    "    V = np.zeros((Ntau+1,L,L))\n",
    "\n",
    "    U[0],D[0],V[0] = LA.svd(np.eye(L))\n",
    "    for i in range(Ntau):\n",
    "        U[i+1], D[i+1], V[i+1] = SVD_stablizer_forward(ExpM(phi[i], ExpT, Vdiag),U[i],D[i],V[i])\n",
    "    return U,D,V"
   ]
  },
  {
   "cell_type": "code",
   "execution_count": 8,
   "metadata": {},
   "outputs": [],
   "source": [
    "def Update_HS(GFup, GFdn, phi, alpha):\n",
    "    Ident = np.eye(len(phi))\n",
    "    for i in range(len(phi)):\n",
    "        dup = np.exp(-2 * alpha * phi[i]) -1 \n",
    "        ddn = np.exp(2 * alpha * phi[i]) -1\n",
    "        Rup = 1 + dup * (1 - GFup[i,i])\n",
    "        Rdn = 1 + ddn * (1 - GFdn[i,i])\n",
    "        \n",
    "        if  np.abs(Rup * Rdn) > np.random.rand():\n",
    "            \n",
    "            GFup -= dup * np.outer(GFup[:,i], Ident[i]-GFup[i,:])/Rup\n",
    "            GFdn -= ddn * np.outer(GFdn[:,i], Ident[i]-GFdn[i,:])/Rdn\n",
    "            phi[i] = -phi[i]\n",
    "    \n",
    "    return GFup, GFdn, phi"
   ]
  },
  {
   "cell_type": "code",
   "execution_count": 21,
   "metadata": {},
   "outputs": [],
   "source": [
    "def Sweep_backward(GFup,GFdn,Uup,Dup,Vup,Udn,Ddn,Vdn,phi,ExpT,Vdiag,Nstable,alpha):\n",
    "    # Input GFup, GFdn should be G(0,0) = G(\\beta,\\beta)\n",
    "    # The first member of U, D, V should be the result of I = B(0,0) or B(\\beta, \\beta)\n",
    "    Ntau = len(phi) \n",
    "    ind_revered = np.roll(np.arange(Ntau+1)[::-1], shift=1)\n",
    "    for n in range(1,Ntau+1):\n",
    "        i = ind_revered[n]\n",
    "        i_1 = ind_revered[n-1]\n",
    "        if np.mod(n,Nstable) == 0:\n",
    "            # recompute equal time GF to avoid accumulation of numerical error\n",
    "            GFup_recomputed = GF(Vup[i_1],Dup[i_1],Uup[i_1],Uup[i],Dup[i],Vup[i])\n",
    "            GFdn_recomputed = GF(Vdn[i_1],Ddn[i_1],Udn[i_1],Udn[i],Ddn[i],Vdn[i])\n",
    "            # compare with advanced one to get the accumulated error\n",
    "            GFup_error = np.max(np.abs(GFup_recomputed - GFup))\n",
    "            GFdn_error = np.max(np.abs(GFdn_recomputed - GFdn))\n",
    "            print(\"Devitation between GF by propagating and by recomputed: \", (GFup_error + GFdn_error)/2)\n",
    "            GFup = GFup_recomputed\n",
    "            GFdn = GFdn_recomputed\n",
    "        \n",
    "        # Update H-S field and Green function\n",
    "        GFup, GFdn, phi[i-1] = Update_HS(GFup, GFdn, phi[i-1], alpha)\n",
    "\n",
    "        # Update SVD decompostion for B matrix\n",
    "        Bup = ExpM(phi[i-1], ExpT,  Vdiag)\n",
    "        Bdn = ExpM(phi[i-1], ExpT, -Vdiag)\n",
    "\n",
    "        # Advance equal time GF using new H-S field\n",
    "        GFup = LA.inv(Bup).dot(GFup).dot(Bup)\n",
    "        GFdn = LA.inv(Bdn).dot(GFdn).dot(Bdn)\n",
    "\n",
    "        # Repalce SVD decomposition of B matrix\n",
    "        Uup[i], Dup[i], Vup[i] = SVD_stablizer_back(Bup, Uup[i_1], Dup[i_1], Vup[i_1])\n",
    "        Udn[i], Ddn[i], Vdn[i] = SVD_stablizer_back(Bdn, Udn[i_1], Ddn[i_1], Vdn[i_1])\n",
    "\n",
    "    return GFup, GFdn, Uup, Dup, Vup, Udn, Ddn, Vdn, phi\n"
   ]
  },
  {
   "cell_type": "code",
   "execution_count": 25,
   "metadata": {},
   "outputs": [],
   "source": [
    "def Sweep_forward(GFup,GFdn,Uup,Dup,Vup,Udn,Ddn,Vdn,phi,ExpT,Vdiag,Nstable,alpha):\n",
    "    # Input GFup, GFdn should be G(0,0) = G(\\beta,\\beta)\n",
    "    # The first member of U, D, V should be the result of I = B(0,0) or B(\\beta, \\beta)\n",
    "\n",
    "    # reverse the order of U, D, V, and shift B(0,0) to the first one, to make the sweep backward\n",
    "    \n",
    "    Ntau = len(phi) \n",
    "    for i in range(1,Ntau+1):\n",
    "        if np.mod(i,Nstable) == 0:\n",
    "            # recompute equal time GF to avoid accumulation of numerical error\n",
    "            GFup_recomputed = GF(Vup[i],Dup[i],Uup[i],Uup[i-1],Dup[i-1],Vup[i-1])\n",
    "            GFdn_recomputed = GF(Vdn[i],Ddn[i],Udn[i],Udn[i-1],Ddn[i-1],Vdn[i-1])\n",
    "\n",
    "            # compare with advanced one to get the accumulated error\n",
    "            GFup_error = np.max(np.abs(GFup_recomputed - GFup))\n",
    "            GFdn_error = np.max(np.abs(GFdn_recomputed - GFdn))\n",
    "            print(\"Devitation between GF by propagating and by recomputed: \", (GFup_error + GFdn_error)/2)\n",
    "            GFup = GFup_recomputed\n",
    "            GFdn = GFdn_recomputed\n",
    "\n",
    "        # Advance equal green function first note that phi has not been updated\n",
    "        Bup = ExpM(phi[i-1], ExpT,  Vdiag)\n",
    "        Bdn = ExpM(phi[i-1], ExpT, -Vdiag)\n",
    "        GFup = Bup.dot(GFup).dot(LA.inv(Bup))\n",
    "        GFdn = Bdn.dot(GFdn).dot(LA.inv(Bdn))\n",
    "        \n",
    "        # Update H-S field and Green function\n",
    "        GFup, GFdn, phi[i-1] = Update_HS(GFup, GFdn, phi[i-1], alpha)\n",
    "\n",
    "        # Update SVD decompostion for B matrix\n",
    "        Bup = ExpM(phi[i-1], ExpT,  Vdiag)\n",
    "        Bdn = ExpM(phi[i-1], ExpT, -Vdiag)\n",
    "\n",
    "        # Repalce SVD decomposition of B matrix\n",
    "        Uup[i], Dup[i], Vup[i] = SVD_stablizer_forward(Bup, Uup[i-1], Dup[i-1], Vup[i-1])\n",
    "        Udn[i], Ddn[i], Vdn[i] = SVD_stablizer_forward(Bdn, Udn[i-1], Ddn[i-1], Vdn[i-1])\n",
    "\n",
    "    return GFup, GFdn, Uup, Dup, Vup, Udn, Ddn, Vdn, phi"
   ]
  },
  {
   "cell_type": "code",
   "execution_count": 83,
   "metadata": {},
   "outputs": [
    {
     "name": "stdout",
     "output_type": "stream",
     "text": [
      "[ True]\n"
     ]
    }
   ],
   "source": [
    "L = 4 * 4\n",
    "Ntau = 40\n",
    "Nstable = 10\n",
    "dtau = 0.1\n",
    "U = 4.0\n",
    "t = -1.0\n",
    "mu = 4\n",
    "beta = dtau * Ntau\n",
    "alpha = np.arccosh(np.exp(0.5*dtau*U))\n",
    "T = Tmatrix(t,mu).real\n",
    "ExpT = sla.expm(-dtau * T)\n",
    "Vdiag = np.zeros(L)\n",
    "Vdiag[:] = alpha"
   ]
  },
  {
   "cell_type": "code",
   "execution_count": 85,
   "metadata": {},
   "outputs": [
    {
     "name": "stdout",
     "output_type": "stream",
     "text": [
      "Devitation between GF by propagating and by recomputed:  5.825756543842431e-13\n",
      "Devitation between GF by propagating and by recomputed:  1.966295182231903e-12\n",
      "Devitation between GF by propagating and by recomputed:  2.8700236631706844e-12\n",
      "Devitation between GF by propagating and by recomputed:  4.6327941483070845e-12\n",
      "Devitation between GF by propagating and by recomputed:  6.304956556846264e-13\n",
      "Devitation between GF by propagating and by recomputed:  3.3927374798459198e-12\n",
      "Devitation between GF by propagating and by recomputed:  4.3396675142304275e-12\n",
      "Devitation between GF by propagating and by recomputed:  3.8969522053733385e-12\n",
      "Devitation between GF by propagating and by recomputed:  8.831269049380808e-13\n",
      "Devitation between GF by propagating and by recomputed:  4.827770128112974e-13\n",
      "Devitation between GF by propagating and by recomputed:  5.038074124552594e-12\n",
      "Devitation between GF by propagating and by recomputed:  3.273270543502349e-12\n",
      "Devitation between GF by propagating and by recomputed:  6.51331766299279e-12\n",
      "Devitation between GF by propagating and by recomputed:  5.085390442083337e-12\n",
      "Devitation between GF by propagating and by recomputed:  2.785816716199818e-12\n",
      "Devitation between GF by propagating and by recomputed:  3.956890370915289e-12\n",
      "Devitation between GF by propagating and by recomputed:  4.576339307504895e-13\n",
      "Devitation between GF by propagating and by recomputed:  2.5136698278416247e-12\n",
      "Devitation between GF by propagating and by recomputed:  1.172192551357476e-12\n",
      "Devitation between GF by propagating and by recomputed:  3.3044400549187003e-12\n",
      "Devitation between GF by propagating and by recomputed:  7.952180580694801e-13\n",
      "Devitation between GF by propagating and by recomputed:  7.429597562169654e-11\n",
      "Devitation between GF by propagating and by recomputed:  3.4154762351690238e-12\n",
      "Devitation between GF by propagating and by recomputed:  2.504885188159278e-12\n",
      "Devitation between GF by propagating and by recomputed:  4.5034809215138694e-13\n",
      "Devitation between GF by propagating and by recomputed:  3.1945409859068796e-11\n",
      "Devitation between GF by propagating and by recomputed:  2.1729215649024525e-12\n",
      "Devitation between GF by propagating and by recomputed:  8.355455216602081e-12\n",
      "Devitation between GF by propagating and by recomputed:  2.6831037391872314e-12\n",
      "Devitation between GF by propagating and by recomputed:  1.3897988662692207e-12\n",
      "Devitation between GF by propagating and by recomputed:  1.6051993068089132e-11\n",
      "Devitation between GF by propagating and by recomputed:  8.428896469681035e-12\n",
      "Devitation between GF by propagating and by recomputed:  1.4057643937803732e-12\n",
      "Devitation between GF by propagating and by recomputed:  1.044781622328017e-11\n",
      "Devitation between GF by propagating and by recomputed:  2.4713356361338867e-12\n",
      "Devitation between GF by propagating and by recomputed:  1.5507456430086108e-12\n",
      "Devitation between GF by propagating and by recomputed:  1.1631021666624886e-12\n",
      "Devitation between GF by propagating and by recomputed:  7.128542547918393e-12\n",
      "Devitation between GF by propagating and by recomputed:  1.3153686473366122e-11\n",
      "Devitation between GF by propagating and by recomputed:  5.131742253361438e-12\n",
      "Devitation between GF by propagating and by recomputed:  3.609848531205273e-12\n",
      "Devitation between GF by propagating and by recomputed:  1.7720269696042124e-12\n",
      "Devitation between GF by propagating and by recomputed:  2.2751800443643333e-12\n",
      "Devitation between GF by propagating and by recomputed:  8.681319552117372e-13\n",
      "Devitation between GF by propagating and by recomputed:  1.0940571365525287e-12\n",
      "Devitation between GF by propagating and by recomputed:  7.573865146159875e-12\n",
      "Devitation between GF by propagating and by recomputed:  1.0451361998065067e-12\n",
      "Devitation between GF by propagating and by recomputed:  5.73889546995332e-12\n",
      "Devitation between GF by propagating and by recomputed:  2.795992604109898e-13\n",
      "Devitation between GF by propagating and by recomputed:  1.4109963197839193e-12\n",
      "Devitation between GF by propagating and by recomputed:  6.194662838243659e-13\n",
      "Devitation between GF by propagating and by recomputed:  9.61487833794905e-13\n",
      "Devitation between GF by propagating and by recomputed:  1.4057366382047576e-12\n",
      "Devitation between GF by propagating and by recomputed:  2.425379341808309e-12\n",
      "Devitation between GF by propagating and by recomputed:  8.920020971858733e-12\n",
      "Devitation between GF by propagating and by recomputed:  5.82074666244381e-12\n",
      "Devitation between GF by propagating and by recomputed:  6.895872761703004e-13\n",
      "Devitation between GF by propagating and by recomputed:  1.0623290441769129e-12\n",
      "Devitation between GF by propagating and by recomputed:  1.5048606891859828e-12\n",
      "Devitation between GF by propagating and by recomputed:  1.6536286229218433e-12\n",
      "Devitation between GF by propagating and by recomputed:  6.939960758844954e-13\n",
      "Devitation between GF by propagating and by recomputed:  4.96987173637109e-12\n",
      "Devitation between GF by propagating and by recomputed:  2.408351296168121e-12\n",
      "Devitation between GF by propagating and by recomputed:  3.463307418627437e-11\n",
      "Devitation between GF by propagating and by recomputed:  3.1347147100291295e-13\n",
      "Devitation between GF by propagating and by recomputed:  7.423723094590606e-13\n",
      "Devitation between GF by propagating and by recomputed:  1.9148176967631603e-12\n",
      "Devitation between GF by propagating and by recomputed:  2.2077756289817785e-12\n",
      "Devitation between GF by propagating and by recomputed:  3.323018943346412e-13\n",
      "Devitation between GF by propagating and by recomputed:  1.0857675869502259e-11\n",
      "Devitation between GF by propagating and by recomputed:  3.294868132670825e-11\n",
      "Devitation between GF by propagating and by recomputed:  1.3848922620393177e-10\n",
      "Devitation between GF by propagating and by recomputed:  8.81490019866149e-12\n",
      "Devitation between GF by propagating and by recomputed:  3.273556772875885e-12\n",
      "Devitation between GF by propagating and by recomputed:  4.0962840758274055e-12\n",
      "Devitation between GF by propagating and by recomputed:  9.484982244067908e-13\n",
      "Devitation between GF by propagating and by recomputed:  7.026462744974538e-13\n",
      "Devitation between GF by propagating and by recomputed:  1.6495034504959705e-12\n",
      "Devitation between GF by propagating and by recomputed:  6.569536581402247e-12\n",
      "Devitation between GF by propagating and by recomputed:  1.3049006319931777e-11\n",
      "Devitation between GF by propagating and by recomputed:  2.8660407380698416e-13\n",
      "Devitation between GF by propagating and by recomputed:  4.123677961598293e-12\n",
      "Devitation between GF by propagating and by recomputed:  2.780952551573179e-13\n",
      "Devitation between GF by propagating and by recomputed:  5.571654249081348e-13\n",
      "Devitation between GF by propagating and by recomputed:  7.958286807330239e-13\n",
      "Devitation between GF by propagating and by recomputed:  1.6109336087311021e-12\n",
      "Devitation between GF by propagating and by recomputed:  4.149732640845727e-12\n",
      "Devitation between GF by propagating and by recomputed:  2.843260349383314e-12\n",
      "Devitation between GF by propagating and by recomputed:  1.837685559280544e-11\n",
      "Devitation between GF by propagating and by recomputed:  1.8549016489455283e-12\n",
      "Devitation between GF by propagating and by recomputed:  5.060857982686073e-12\n",
      "Devitation between GF by propagating and by recomputed:  1.980857535291425e-12\n",
      "Devitation between GF by propagating and by recomputed:  4.1300990405446214e-13\n",
      "Devitation between GF by propagating and by recomputed:  8.207712287600089e-12\n",
      "Devitation between GF by propagating and by recomputed:  4.18751144870555e-12\n",
      "Devitation between GF by propagating and by recomputed:  1.3262516085355003e-11\n",
      "Devitation between GF by propagating and by recomputed:  1.188205783764218e-11\n",
      "Devitation between GF by propagating and by recomputed:  6.924478351821861e-13\n",
      "Devitation between GF by propagating and by recomputed:  4.3201553445726404e-13\n",
      "Devitation between GF by propagating and by recomputed:  1.4720689944791587e-12\n",
      "Devitation between GF by propagating and by recomputed:  2.9522218003563694e-13\n",
      "Devitation between GF by propagating and by recomputed:  6.639445937484112e-12\n",
      "Devitation between GF by propagating and by recomputed:  1.1295270274658264e-12\n",
      "Devitation between GF by propagating and by recomputed:  1.068843277773901e-11\n",
      "Devitation between GF by propagating and by recomputed:  1.0826131657815097e-12\n",
      "Devitation between GF by propagating and by recomputed:  7.800067015895085e-13\n",
      "Devitation between GF by propagating and by recomputed:  4.666766972860614e-12\n",
      "Devitation between GF by propagating and by recomputed:  1.1836642777041106e-12\n",
      "Devitation between GF by propagating and by recomputed:  7.48255624127836e-13\n",
      "Devitation between GF by propagating and by recomputed:  4.186349617657514e-12\n",
      "Devitation between GF by propagating and by recomputed:  2.330715481724255e-12\n",
      "Devitation between GF by propagating and by recomputed:  2.5196095210233693e-12\n",
      "Devitation between GF by propagating and by recomputed:  2.984730518296175e-13\n",
      "Devitation between GF by propagating and by recomputed:  1.927768708553934e-12\n",
      "Devitation between GF by propagating and by recomputed:  2.0756243945818653e-12\n",
      "Devitation between GF by propagating and by recomputed:  2.8450471145635703e-12\n",
      "Devitation between GF by propagating and by recomputed:  1.2026976636825282e-12\n",
      "Devitation between GF by propagating and by recomputed:  6.610476705956603e-12\n",
      "Devitation between GF by propagating and by recomputed:  5.7093912930739066e-12\n",
      "Devitation between GF by propagating and by recomputed:  1.9574446881095997e-11\n",
      "Devitation between GF by propagating and by recomputed:  3.215983035431691e-12\n",
      "Devitation between GF by propagating and by recomputed:  1.6616794745738517e-12\n",
      "Devitation between GF by propagating and by recomputed:  3.681055460447169e-12\n",
      "Devitation between GF by propagating and by recomputed:  6.53131541905605e-12\n",
      "Devitation between GF by propagating and by recomputed:  6.665085150459049e-13\n",
      "Devitation between GF by propagating and by recomputed:  1.0506567837964553e-11\n",
      "Devitation between GF by propagating and by recomputed:  5.660596991141631e-12\n",
      "Devitation between GF by propagating and by recomputed:  3.6970947137060506e-11\n",
      "Devitation between GF by propagating and by recomputed:  1.0631662217264193e-11\n",
      "Devitation between GF by propagating and by recomputed:  5.095437960456195e-12\n",
      "Devitation between GF by propagating and by recomputed:  9.24243320765683e-13\n",
      "Devitation between GF by propagating and by recomputed:  9.599147865468893e-12\n",
      "Devitation between GF by propagating and by recomputed:  2.9516753624614367e-13\n",
      "Devitation between GF by propagating and by recomputed:  9.632433739525936e-12\n",
      "Devitation between GF by propagating and by recomputed:  5.453387741383153e-12\n",
      "Devitation between GF by propagating and by recomputed:  1.9750437396659493e-11\n",
      "Devitation between GF by propagating and by recomputed:  2.9156538294827783e-12\n",
      "Devitation between GF by propagating and by recomputed:  2.1403545602538543e-11\n",
      "Devitation between GF by propagating and by recomputed:  1.1391077317512988e-11\n",
      "Devitation between GF by propagating and by recomputed:  4.732207681268363e-12\n",
      "Devitation between GF by propagating and by recomputed:  1.9855644906030534e-12\n",
      "Devitation between GF by propagating and by recomputed:  5.70616470740859e-12\n",
      "Devitation between GF by propagating and by recomputed:  3.2487762480215565e-12\n",
      "Devitation between GF by propagating and by recomputed:  1.4523088027323938e-11\n",
      "Devitation between GF by propagating and by recomputed:  7.057063267090768e-13\n",
      "Devitation between GF by propagating and by recomputed:  3.056005969115372e-12\n",
      "Devitation between GF by propagating and by recomputed:  2.6301356925717556e-12\n",
      "Devitation between GF by propagating and by recomputed:  7.228662113334394e-13\n",
      "Devitation between GF by propagating and by recomputed:  6.888205283939186e-13\n",
      "Devitation between GF by propagating and by recomputed:  2.904946075354964e-11\n",
      "Devitation between GF by propagating and by recomputed:  3.0535730194403143e-12\n",
      "Devitation between GF by propagating and by recomputed:  2.0321327953709556e-11\n",
      "Devitation between GF by propagating and by recomputed:  1.1163014956849793e-12\n",
      "Devitation between GF by propagating and by recomputed:  4.97761554196785e-13\n",
      "Devitation between GF by propagating and by recomputed:  7.84160930633604e-12\n",
      "Devitation between GF by propagating and by recomputed:  3.256821895503137e-12\n",
      "Devitation between GF by propagating and by recomputed:  3.952650706740002e-12\n",
      "Devitation between GF by propagating and by recomputed:  1.6520456877500145e-12\n",
      "Devitation between GF by propagating and by recomputed:  4.5294237110971025e-12\n",
      "Devitation between GF by propagating and by recomputed:  9.967443537206577e-12\n",
      "Devitation between GF by propagating and by recomputed:  3.2631536361904523e-13\n",
      "Devitation between GF by propagating and by recomputed:  5.187664534056502e-13\n",
      "Devitation between GF by propagating and by recomputed:  6.52320038263543e-12\n",
      "Devitation between GF by propagating and by recomputed:  1.1149206557981017e-12\n",
      "Devitation between GF by propagating and by recomputed:  6.241326899747435e-13\n",
      "Devitation between GF by propagating and by recomputed:  1.4186502667046241e-11\n",
      "Devitation between GF by propagating and by recomputed:  1.0369760605755118e-12\n",
      "Devitation between GF by propagating and by recomputed:  8.897084458059368e-13\n",
      "Devitation between GF by propagating and by recomputed:  1.3548051569500785e-12\n",
      "Devitation between GF by propagating and by recomputed:  3.4082597855089602e-12\n",
      "Devitation between GF by propagating and by recomputed:  2.787034492079954e-12\n",
      "Devitation between GF by propagating and by recomputed:  6.4189452364527e-13\n",
      "Devitation between GF by propagating and by recomputed:  1.4956482233263735e-12\n",
      "Devitation between GF by propagating and by recomputed:  1.7812140651329855e-12\n",
      "Devitation between GF by propagating and by recomputed:  1.937651428196574e-12\n",
      "Devitation between GF by propagating and by recomputed:  4.5568687712105316e-12\n",
      "Devitation between GF by propagating and by recomputed:  2.1513693604369166e-13\n",
      "Devitation between GF by propagating and by recomputed:  1.3237709539648534e-12\n",
      "Devitation between GF by propagating and by recomputed:  8.328615574981768e-13\n",
      "Devitation between GF by propagating and by recomputed:  3.133410197975195e-12\n",
      "Devitation between GF by propagating and by recomputed:  1.0796094920828558e-12\n",
      "Devitation between GF by propagating and by recomputed:  1.924481407566958e-12\n",
      "Devitation between GF by propagating and by recomputed:  1.1621086037916228e-12\n",
      "Devitation between GF by propagating and by recomputed:  1.2917080599583741e-12\n",
      "Devitation between GF by propagating and by recomputed:  2.27932950291887e-12\n",
      "Devitation between GF by propagating and by recomputed:  2.480497751644606e-11\n",
      "Devitation between GF by propagating and by recomputed:  9.431431330364504e-13\n",
      "Devitation between GF by propagating and by recomputed:  7.695694775877726e-12\n",
      "Devitation between GF by propagating and by recomputed:  2.1752599721480692e-12\n",
      "Devitation between GF by propagating and by recomputed:  3.2590458109993392e-12\n",
      "Devitation between GF by propagating and by recomputed:  1.3375064944476378e-11\n",
      "Devitation between GF by propagating and by recomputed:  7.1550473879078424e-12\n",
      "Devitation between GF by propagating and by recomputed:  3.9869323120722555e-13\n",
      "Devitation between GF by propagating and by recomputed:  6.968634003179375e-12\n",
      "Devitation between GF by propagating and by recomputed:  2.7166602301065268e-12\n",
      "Devitation between GF by propagating and by recomputed:  2.0913562548408038e-11\n",
      "Devitation between GF by propagating and by recomputed:  1.7620904735338172e-12\n",
      "Devitation between GF by propagating and by recomputed:  7.746027777533193e-12\n",
      "Devitation between GF by propagating and by recomputed:  7.997053019792588e-11\n",
      "Devitation between GF by propagating and by recomputed:  6.720624057265923e-12\n",
      "Devitation between GF by propagating and by recomputed:  8.355066638543462e-12\n",
      "Devitation between GF by propagating and by recomputed:  5.586971857374223e-12\n",
      "Devitation between GF by propagating and by recomputed:  2.6457669388690874e-11\n",
      "Devitation between GF by propagating and by recomputed:  3.079699689712001e-12\n",
      "Devitation between GF by propagating and by recomputed:  8.943666120198035e-13\n",
      "Devitation between GF by propagating and by recomputed:  1.0097492286753607e-11\n",
      "Devitation between GF by propagating and by recomputed:  1.0032122918848807e-11\n",
      "Devitation between GF by propagating and by recomputed:  5.426954025056219e-12\n",
      "Devitation between GF by propagating and by recomputed:  1.9071593262975917e-13\n",
      "Devitation between GF by propagating and by recomputed:  7.591332076839485e-13\n",
      "Devitation between GF by propagating and by recomputed:  6.1497994197079464e-12\n",
      "Devitation between GF by propagating and by recomputed:  1.1770792673893027e-11\n",
      "Devitation between GF by propagating and by recomputed:  2.2898072327137697e-12\n",
      "Devitation between GF by propagating and by recomputed:  8.483949653914635e-12\n",
      "Devitation between GF by propagating and by recomputed:  2.3166885076975063e-12\n",
      "Devitation between GF by propagating and by recomputed:  4.697083000326785e-12\n",
      "Devitation between GF by propagating and by recomputed:  8.832361925170673e-13\n",
      "Devitation between GF by propagating and by recomputed:  5.0124487893654646e-12\n",
      "Devitation between GF by propagating and by recomputed:  6.313432415749887e-12\n",
      "Devitation between GF by propagating and by recomputed:  6.617772996264648e-11\n",
      "Devitation between GF by propagating and by recomputed:  2.233842451293544e-13\n",
      "Devitation between GF by propagating and by recomputed:  2.6455875250935845e-11\n",
      "Devitation between GF by propagating and by recomputed:  1.0355154234087394e-12\n",
      "Devitation between GF by propagating and by recomputed:  2.8971061660776343e-12\n",
      "Devitation between GF by propagating and by recomputed:  4.407862963518028e-13\n",
      "Devitation between GF by propagating and by recomputed:  1.1216479134379398e-12\n",
      "Devitation between GF by propagating and by recomputed:  6.326078549889758e-12\n",
      "Devitation between GF by propagating and by recomputed:  3.146108373819345e-12\n",
      "Devitation between GF by propagating and by recomputed:  1.2821133044127464e-12\n",
      "Devitation between GF by propagating and by recomputed:  1.6326551222078933e-11\n",
      "Devitation between GF by propagating and by recomputed:  2.105579599565033e-12\n",
      "Devitation between GF by propagating and by recomputed:  3.741661494527371e-12\n",
      "Devitation between GF by propagating and by recomputed:  1.7062046220317484e-13\n",
      "Devitation between GF by propagating and by recomputed:  1.7865110432668807e-12\n",
      "Devitation between GF by propagating and by recomputed:  5.5251081487739384e-12\n",
      "Devitation between GF by propagating and by recomputed:  2.882985516983183e-12\n",
      "Devitation between GF by propagating and by recomputed:  4.142033938059342e-13\n",
      "Devitation between GF by propagating and by recomputed:  1.3758619243908754e-11\n",
      "Devitation between GF by propagating and by recomputed:  1.940128613320269e-11\n",
      "Devitation between GF by propagating and by recomputed:  2.5053986663081673e-12\n"
     ]
    }
   ],
   "source": [
    "Nwarm = 10\n",
    "Nsweep = 20\n",
    "phi = np.random.choice([1, -1], size=(Ntau, L))\n",
    "#The part of spin up and spin down are not coupled but direct product\n",
    "Uup,Dup,Vup = Stable_Bmatrix(phi,ExpT,Vdiag)\n",
    "Udn,Ddn,Vdn = Stable_Bmatrix(phi,ExpT,-Vdiag)\n",
    "GFup = GF(Vup[0],Dup[0],Uup[0],Uup[-1],Dup[-1],Vup[-1])\n",
    "GFdn = GF(Vdn[0],Ddn[0],Udn[0],Udn[-1],Ddn[-1],Vdn[-1])\n",
    "sign  = np.zeros(2 * Nsweep)\n",
    "Number = np.zeros(2 * Nsweep)\n",
    "# Warm up\n",
    "for _ in range(Nwarm):\n",
    "    GFup, GFdn, Uup, Dup, Vup, Udn, Ddn, Vdn, phi = Sweep_backward(GFup,GFdn,Uup,Dup,Vup,Udn,Ddn,Vdn,phi,ExpT,Vdiag,Nstable,alpha)\n",
    "    GFup, GFdn, Uup, Dup, Vup, Udn, Ddn, Vdn, phi = Sweep_forward(GFup,GFdn,Uup,Dup,Vup,Udn,Ddn,Vdn,phi,ExpT,Vdiag,Nstable,alpha)\n",
    "\n",
    "# Sweep\n",
    "for i in range(Nsweep):\n",
    "    GFup, GFdn, Uup, Dup, Vup, Udn, Ddn, Vdn, phi = Sweep_backward(GFup,GFdn,Uup,Dup,Vup,Udn,Ddn,Vdn,phi,ExpT,Vdiag,Nstable,alpha)\n",
    "    \n",
    "    # Measurement \n",
    "    sign[i*2] = np.sign(LA.det(GFup) * LA.det(GFdn))\n",
    "    Number[i*2] = np.diag(GFup).sum() + np.diag(GFdn).sum()\n",
    "\n",
    "    GFup, GFdn, Uup, Dup, Vup, Udn, Ddn, Vdn, phi = Sweep_forward(GFup,GFdn,Uup,Dup,Vup,Udn,Ddn,Vdn,phi,ExpT,Vdiag,Nstable,alpha)\n",
    "    \n",
    "    # Measurement \n",
    "    sign[i*2 + 1] = np.sign(LA.det(GFup) * LA.det(GFdn))\n",
    "    Number[i*2 + 1] = np.diag(GFup).sum() + np.diag(GFdn).sum()\n"
   ]
  },
  {
   "cell_type": "code",
   "execution_count": 86,
   "metadata": {},
   "outputs": [
    {
     "data": {
      "text/plain": [
       "0.65"
      ]
     },
     "execution_count": 86,
     "metadata": {},
     "output_type": "execute_result"
    }
   ],
   "source": [
    "np.mean(sign)"
   ]
  },
  {
   "cell_type": "code",
   "execution_count": 87,
   "metadata": {},
   "outputs": [
    {
     "data": {
      "text/plain": [
       "array([ 1.,  1., -1.,  1.,  1.,  1.,  1.,  1., -1., -1., -1.,  1.,  1.,\n",
       "        1., -1.,  1.,  1.,  1.,  1.,  1.,  1.,  1.,  1.,  1.,  1.,  1.,\n",
       "        1.,  1.,  1.,  1.,  1.,  1.,  1., -1.,  1.,  1., -1.,  1.,  1.,\n",
       "        1.])"
      ]
     },
     "execution_count": 87,
     "metadata": {},
     "output_type": "execute_result"
    }
   ],
   "source": [
    "sign"
   ]
  },
  {
   "cell_type": "code",
   "execution_count": 88,
   "metadata": {},
   "outputs": [
    {
     "data": {
      "text/plain": [
       "0.11001009238643278"
      ]
     },
     "execution_count": 88,
     "metadata": {},
     "output_type": "execute_result"
    }
   ],
   "source": [
    "Number[0]/32 "
   ]
  },
  {
   "cell_type": "code",
   "execution_count": 91,
   "metadata": {},
   "outputs": [
    {
     "data": {
      "text/plain": [
       "3.9099010255075455"
      ]
     },
     "execution_count": 91,
     "metadata": {},
     "output_type": "execute_result"
    }
   ],
   "source": [
    "np.mean(Number) "
   ]
  },
  {
   "cell_type": "code",
   "execution_count": 92,
   "metadata": {},
   "outputs": [
    {
     "data": {
      "text/plain": [
       "0.11774391261163175"
      ]
     },
     "execution_count": 92,
     "metadata": {},
     "output_type": "execute_result"
    }
   ],
   "source": [
    "np.mean(sign * Number) / np.mean(sign)/ 32"
   ]
  }
 ],
 "metadata": {
  "kernelspec": {
   "display_name": "base",
   "language": "python",
   "name": "python3"
  },
  "language_info": {
   "codemirror_mode": {
    "name": "ipython",
    "version": 3
   },
   "file_extension": ".py",
   "mimetype": "text/x-python",
   "name": "python",
   "nbconvert_exporter": "python",
   "pygments_lexer": "ipython3",
   "version": "3.8.12"
  },
  "orig_nbformat": 4
 },
 "nbformat": 4,
 "nbformat_minor": 2
}
