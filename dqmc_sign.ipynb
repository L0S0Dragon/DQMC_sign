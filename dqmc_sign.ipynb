{
 "cells": [
  {
   "cell_type": "code",
   "execution_count": 3,
   "metadata": {},
   "outputs": [],
   "source": [
    "import numpy as np\n",
    "import numpy.linalg as LA\n",
    "import matplotlib.pyplot as plt\n",
    "import scipy.linalg as sla"
   ]
  },
  {
   "cell_type": "code",
   "execution_count": null,
   "metadata": {},
   "outputs": [],
   "source": [
    "# define lattice and generate hopping matrix with OBC"
   ]
  },
  {
   "cell_type": "code",
   "execution_count": 2,
   "metadata": {},
   "outputs": [],
   "source": [
    "from pythtb import *\n",
    "def Tmatrix(t,mu):\n",
    "\n",
    "    # set model parameters\n",
    "    mu=0.0\n",
    "    t=-1.0\n",
    "    lat=[[1.0,0.0],[0.0,1.0]]\n",
    "    orb=[[0.0,0.0]]\n",
    "\n",
    "    # create TB model\n",
    "    my_model=tb_model(2,2,lat,orb)\n",
    "    \n",
    "    # set on-site energies\n",
    "    my_model.set_onsite([-mu])\n",
    "    # set hopping terms (one for each nearest neighbor)\n",
    "    my_model.set_hop(t, 0, 0, [1, 0])\n",
    "    my_model.set_hop(t, 0, 0, [0, 1])\n",
    "\n",
    "    # create a 4x4 lattice\n",
    "    Nx, Ny = 4, 4\n",
    "    my_ham = my_model.cut_piece(Nx,0,glue_edgs=False)\n",
    "    my_ham = my_ham.cut_piece(Ny,1,glue_edgs=False)\n",
    "    # print Hamiltonian\n",
    "    return my_ham._gen_ham()\n"
   ]
  },
  {
   "cell_type": "code",
   "execution_count": 44,
   "metadata": {},
   "outputs": [],
   "source": [
    "L = 4 * 4\n",
    "Ntau = 20\n",
    "dtau = 0.1\n",
    "U = 4.0\n",
    "t = -1.0\n",
    "mu = U/2\n",
    "beta = dtau * Ntau\n",
    "alpha = np.arccosh(np.exp(0.5*dtau*U))\n",
    "T = Tmatrix(t,mu).real\n",
    "ExpT = sla.expm(-dtau * T)\n",
    "Vdiag = np.zeros(L)\n",
    "Vdiag[:] = alpha"
   ]
  },
  {
   "cell_type": "code",
   "execution_count": 22,
   "metadata": {},
   "outputs": [],
   "source": [
    "def ExpM(phi,ExpT,Vdiag):\n",
    "    # T = exp(-T*dtau)\n",
    "    return ExpT.dot(np.diag(phi * Vdiag))"
   ]
  },
  {
   "cell_type": "code",
   "execution_count": null,
   "metadata": {},
   "outputs": [],
   "source": [
    "def SVD_stablizer_back(A,U,D,V):\n",
    "    # B = U * D * V\n",
    "    # B * A = U * D * V * B = U * U1 * D1 * V1 = U2 * D1 * V1\n",
    "    U1, D, V = LA.svd(np.diag(D).dot(V).dot(A))\n",
    "    return U.dot(U1), D, V\n",
    "    \n",
    "def SVD_stablizer_forward(A,U,D,V):\n",
    "    # B = U * D * V\n",
    "    # A * B = A * U * D * V = U1 * D1 * V1 * V = U1 * D1 * V2\n",
    "    U, D, V1 = LA.svd(A.dot(U).dot(np.diag(D)))\n",
    "    return U, D, V1.dot(V)"
   ]
  },
  {
   "cell_type": "code",
   "execution_count": 12,
   "metadata": {},
   "outputs": [],
   "source": [
    "def GF(UL,DL,VL,UR,DR,VR):\n",
    "    # B(t,0) = UL * DL * VL\n",
    "    # B(beta,t) = VR * DR * UR Take care of it !!!\n",
    "    U,D,V = LA.svd(LA.inv(UL.dot(UR))+np.diag(DR).dot(VR).dot(VL).dot(np.diag(DL)))\n",
    "    return LA.inv(V.dot(UL)).dot(np.diag(1/D)).dot(UR.dot(U))"
   ]
  },
  {
   "cell_type": "code",
   "execution_count": 39,
   "metadata": {},
   "outputs": [],
   "source": [
    "def Stable_Bmatrix(phi,ExpT,Vdiag):\n",
    "    # use SVD algorithm to calculate the stable B matrix\n",
    "    # ExpT: the matrix of exp(-dtau * T)\n",
    "    # Vdiag: Ntau x L matrix with each column being - alpha \n",
    "    Ntau, L = phi.shape\n",
    "    U = np.zeros((Ntau+1,L,L))\n",
    "    D = np.zeros((Ntau+1,L))\n",
    "    V = np.zeros((Ntau+1,L,L))\n",
    "\n",
    "    U[0],D[0],V[0] = LA.svd(np.eye(L))\n",
    "    for i in range(Ntau):\n",
    "        U[i+1], D[i+1], V[i+1] = SVD_stablizer_forward(ExpM(phi[i], ExpT, Vdiag),U[-1],D[-1],V[-1])\n",
    "    return U,D,V"
   ]
  },
  {
   "cell_type": "code",
   "execution_count": 47,
   "metadata": {},
   "outputs": [],
   "source": [
    "phi = np.random.choice([1, -1], size=(Ntau, L))\n",
    "#part of spin up and spin down are not coupled but direct product\n",
    "Uup,Dup,Vup = Stable_Bmatrix(phi,ExpT,Vdiag)\n",
    "Udn,Ddn,Vdn = Stable_Bmatrix(phi,ExpT,-Vdiag)"
   ]
  },
  {
   "cell_type": "code",
   "execution_count": 51,
   "metadata": {},
   "outputs": [],
   "source": [
    "def Update_HS(GFup, GFdn, phi):\n",
    "    for i in range(phi):\n",
    "        dup = np.exp(2 * alpha * phi[i]) -1 \n",
    "        ddn = np.exp(-2 * alpha * phi[i]) -1\n",
    "        R = (1 + dup * (1 - GFup[i,i]))*(1 + ddn * (1 - GFdn[i,i]))\n",
    "        \n",
    "        if  np.abs(R) > np.random.rand():\n",
    "            phi[i] = -phi[i]\n",
    "            GFup -= dup * np.outer(GFup[:,i], 1-GFup[i,:])/R\n",
    "            GFdn -= ddn * np.outer(GFdn[:,i], 1-GFdn[i,:])/R\n",
    "        \n",
    "    return GFup, GFdn, phi"
   ]
  },
  {
   "cell_type": "code",
   "execution_count": null,
   "metadata": {},
   "outputs": [],
   "source": [
    "def Sweep_backward(GFup,GFdn,Uup,Dup,Vup,Udn,Ddn,Vdn,phi,ExpT,Vdiag,Nstable):\n",
    "    # Input GFup, GFdn should be G(0,0) = G(\\beta,\\beta)\n",
    "    # The first member of U, D, V should be the result of I = B(0,0) or B(\\beta, \\beta)\n",
    "\n",
    "    Ntau = len(phi) \n",
    "    for i in range(1,Ntau+1):\n",
    "        if np.mod(i,Nstable):\n",
    "            # recompute equal time GF to avoid accumulation of numerical error\n",
    "            GFup_recomputed = GF(Uup[i],Dup[i],Vup[i],Uup[i-1],Dup[i-1],Vup[i-1])\n",
    "            GFdn_recomputed = GF(Udn[i],Ddn[i],Vdn[i],Udn[i-1],Ddn[i-1],Vdn[i-1])\n",
    "            # compare with advanced one to get the accumulated error\n",
    "            GFup_error = np.max(np.abs(GFup_recomputed - GFup))\n",
    "            GFdn_error = np.max(np.abs(GFdn_recomputed - GFdn))\n",
    "            print(\"Error of Green function: \", (GFup_error + GFdn_error)/2)\n",
    "\n",
    "            GFup = GFup_recomputed\n",
    "            GFdn = GFdn_recomputed\n",
    "        \n",
    "        # Update H-S field and Green function\n",
    "        GFup, GFdn, phi[i] = Update_HS(GFup, GFdn, phi[i])\n",
    "\n",
    "        # Update SVD decompostion for B matrix\n",
    "        Bup = ExpM(phi[i], ExpT, Vdiag)\n",
    "        Bdn = ExpM(phi[i], ExpT, -Vdiag)\n",
    "\n",
    "        # Advance equal time GF using new H-S field\n",
    "        GFup = Bup.dot(GFup).dto(LA.inv(Bup))\n",
    "        GFdn = Bdn.dot(GFup).dto(LA.inv(Bdn))\n",
    "\n",
    "        # Repalce SVD decomposition of B matrix\n",
    "        Uup[i], Dup[i], Vup[i] = SVD_stablizer_back(Bup, Uup[i], Dup[i], Vup[i])\n",
    "        Udn[i], Ddn[i], Vdn[i] = SVD_stablizer_back(Bdn, Udn[i], Ddn[i], Vdn[i])\n",
    "\n",
    "    return GFup, GFdn, Uup, Dup, Vup, Udn, Ddn, Vdn, phi\n",
    "\n",
    "\n"
   ]
  },
  {
   "cell_type": "code",
   "execution_count": null,
   "metadata": {},
   "outputs": [],
   "source": []
  }
 ],
 "metadata": {
  "kernelspec": {
   "display_name": "base",
   "language": "python",
   "name": "python3"
  },
  "language_info": {
   "codemirror_mode": {
    "name": "ipython",
    "version": 3
   },
   "file_extension": ".py",
   "mimetype": "text/x-python",
   "name": "python",
   "nbconvert_exporter": "python",
   "pygments_lexer": "ipython3",
   "version": "3.8.12"
  },
  "orig_nbformat": 4
 },
 "nbformat": 4,
 "nbformat_minor": 2
}
