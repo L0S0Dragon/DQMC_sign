{
 "cells": [
  {
   "cell_type": "code",
   "execution_count": 2,
   "metadata": {},
   "outputs": [],
   "source": [
    "import numpy as np\n",
    "import numpy.linalg as LA\n",
    "import matplotlib.pyplot as plt\n",
    "import scipy.linalg as sla"
   ]
  },
  {
   "cell_type": "code",
   "execution_count": 3,
   "metadata": {},
   "outputs": [],
   "source": [
    "# define lattice and generate hopping matrix with OBC"
   ]
  },
  {
   "cell_type": "code",
   "execution_count": 4,
   "metadata": {},
   "outputs": [],
   "source": [
    "from pythtb import *\n",
    "def Tmatrix(t,mu):\n",
    "\n",
    "    # set model parameters\n",
    "    mu=0.0\n",
    "    t=-1.0\n",
    "    lat=[[1.0,0.0],[0.0,1.0]]\n",
    "    orb=[[0.0,0.0]]\n",
    "\n",
    "    # create TB model\n",
    "    my_model=tb_model(2,2,lat,orb)\n",
    "    \n",
    "    # set on-site energies\n",
    "    my_model.set_onsite([-mu])\n",
    "    # set hopping terms (one for each nearest neighbor)\n",
    "    my_model.set_hop(t, 0, 0, [1, 0])\n",
    "    my_model.set_hop(t, 0, 0, [0, 1])\n",
    "\n",
    "    # create a 4x4 lattice\n",
    "    Nx, Ny = 4, 4\n",
    "    my_ham = my_model.cut_piece(Nx,0,glue_edgs=False)\n",
    "    my_ham = my_ham.cut_piece(Ny,1,glue_edgs=False)\n",
    "    # print Hamiltonian\n",
    "    return my_ham._gen_ham()\n"
   ]
  },
  {
   "cell_type": "code",
   "execution_count": 321,
   "metadata": {},
   "outputs": [],
   "source": [
    "def ExpM(phi,ExpT,Vdiag):\n",
    "    # T = exp(-T*dtau)\n",
    "    return np.diag(np.exp(phi * Vdiag)).dot(ExpT)"
   ]
  },
  {
   "cell_type": "code",
   "execution_count": 6,
   "metadata": {},
   "outputs": [],
   "source": [
    "def SVD_stablizer_back(A,U,D,V):\n",
    "    # B = U * D * V\n",
    "    # B * A = U * D * V * B = U * U1 * D1 * V1 = U2 * D1 * V1\n",
    "    U1, D, V = LA.svd(np.diag(D).dot(V).dot(A))\n",
    "    return U.dot(U1), D, V\n",
    "    \n",
    "def SVD_stablizer_forward(A,U,D,V):\n",
    "    # B = U * D * V\n",
    "    # A * B = A * U * D * V = U1 * D1 * V1 * V = U1 * D1 * V2\n",
    "    U, D, V1 = LA.svd(A.dot(U.dot(np.diag(D))))\n",
    "    return U, D, V1.dot(V)"
   ]
  },
  {
   "cell_type": "code",
   "execution_count": 7,
   "metadata": {},
   "outputs": [],
   "source": [
    "def GF(UL,DL,VL,UR,DR,VR):\n",
    "    # B(t,0) = UL * DL * VL\n",
    "    # B(beta,t) = VR * DR * UR Take care of it !!!\n",
    "    U,D,V = LA.svd(LA.inv(UL.dot(UR))+np.diag(DR).dot(VR.dot(VL)).dot(np.diag(DL)))\n",
    "    return LA.inv(V.dot(UL)).dot(np.diag(1/D)).dot(LA.inv(UR.dot(U)))"
   ]
  },
  {
   "cell_type": "code",
   "execution_count": 8,
   "metadata": {},
   "outputs": [],
   "source": [
    "def Stable_Bmatrix(phi,ExpT,Vdiag):\n",
    "    # use SVD algorithm to calculate the stable B matrix\n",
    "    # ExpT: the matrix of exp(-dtau * T)\n",
    "    # Vdiag: Ntau x L matrix with each column being - alpha \n",
    "    Ntau, L = phi.shape\n",
    "    U = np.zeros((Ntau+1,L,L))\n",
    "    D = np.zeros((Ntau+1,L))\n",
    "    V = np.zeros((Ntau+1,L,L))\n",
    "\n",
    "    U[0],D[0],V[0] = LA.svd(np.eye(L))\n",
    "    for i in range(Ntau):\n",
    "        U[i+1], D[i+1], V[i+1] = SVD_stablizer_forward(ExpM(phi[i], ExpT, Vdiag),U[i],D[i],V[i])\n",
    "    return U,D,V"
   ]
  },
  {
   "cell_type": "code",
   "execution_count": 757,
   "metadata": {},
   "outputs": [],
   "source": [
    "def Update_HS(GFup, GFdn, phi, alpha):\n",
    "    Ident = np.eye(len(phi))\n",
    "    for i in range(len(phi)):\n",
    "        dup = np.exp(-2 * alpha * phi[i]) -1 \n",
    "        ddn = np.exp(2 * alpha * phi[i]) -1\n",
    "        Rup = 1 + dup * (1 - GFup[i,i])\n",
    "        Rdn = 1 + ddn * (1 - GFdn[i,i])\n",
    "        \n",
    "        if  np.abs(Rup * Rdn) > np.random.rand():\n",
    "            \n",
    "            GFup -= dup * np.outer(GFup[:,i], Ident[i]-GFup[i,:])/Rup\n",
    "            GFdn -= ddn * np.outer(GFdn[:,i], Ident[i]-GFdn[i,:])/Rdn\n",
    "            phi[i] = -phi[i]\n",
    "    \n",
    "    return GFup, GFdn, phi"
   ]
  },
  {
   "cell_type": "code",
   "execution_count": 783,
   "metadata": {},
   "outputs": [],
   "source": [
    "def Sweep_backward(GFup,GFdn,Uup,Dup,Vup,Udn,Ddn,Vdn,phi,ExpT,Vdiag,Nstable,alpha):\n",
    "    # Input GFup, GFdn should be G(0,0) = G(\\beta,\\beta)\n",
    "    # The first member of U, D, V should be the result of I = B(0,0) or B(\\beta, \\beta)\n",
    "    Ntau = len(phi) \n",
    "    ind_revered = np.roll(np.arange(Ntau+1)[::-1], shift=1)\n",
    "    for n in range(1,Ntau+1):\n",
    "        i = ind_revered[n]\n",
    "        i_1 = ind_revered[n-1]\n",
    "        if np.mod(n,Nstable) == 0:\n",
    "            # recompute equal time GF to avoid accumulation of numerical error\n",
    "            GFup_recomputed = GF(Vup[i_1],Dup[i_1],Uup[i_1],Uup[i],Dup[i],Vup[i])\n",
    "            GFdn_recomputed = GF(Vdn[i_1],Ddn[i_1],Udn[i_1],Udn[i],Ddn[i],Vdn[i])\n",
    "            # compare with advanced one to get the accumulated error\n",
    "            GFup_error = np.max(np.abs(GFup_recomputed - GFup))\n",
    "            GFdn_error = np.max(np.abs(GFdn_recomputed - GFdn))\n",
    "            print(\"Error of Green function: \", (GFup_error + GFdn_error)/2)\n",
    "            GFup = GFup_recomputed\n",
    "            GFdn = GFdn_recomputed\n",
    "        \n",
    "        # Update H-S field and Green function\n",
    "        GFup, GFdn, phi[i-1] = Update_HS(GFup, GFdn, phi[i-1], alpha)\n",
    "\n",
    "        # Update SVD decompostion for B matrix\n",
    "        Bup = ExpM(phi[i-1], ExpT,  Vdiag)\n",
    "        Bdn = ExpM(phi[i-1], ExpT, -Vdiag)\n",
    "\n",
    "        # Advance equal time GF using new H-S field\n",
    "        GFup = LA.inv(Bup).dot(GFup).dot(Bup)\n",
    "        GFdn = LA.inv(Bdn).dot(GFdn).dot(Bdn)\n",
    "\n",
    "        # Repalce SVD decomposition of B matrix\n",
    "        Uup[i], Dup[i], Vup[i] = SVD_stablizer_back(Bup, Uup[i_1], Dup[i_1], Vup[i_1])\n",
    "        Udn[i], Ddn[i], Vdn[i] = SVD_stablizer_back(Bdn, Udn[i_1], Ddn[i_1], Vdn[i_1])\n",
    "\n",
    "    return GFup, GFdn, Uup, Dup, Vup, Udn, Ddn, Vdn, phi\n"
   ]
  },
  {
   "cell_type": "code",
   "execution_count": 789,
   "metadata": {},
   "outputs": [],
   "source": [
    "def Sweep_forward(GFup,GFdn,Uup,Dup,Vup,Udn,Ddn,Vdn,phi,ExpT,Vdiag,Nstable,alpha):\n",
    "    # Input GFup, GFdn should be G(0,0) = G(\\beta,\\beta)\n",
    "    # The first member of U, D, V should be the result of I = B(0,0) or B(\\beta, \\beta)\n",
    "\n",
    "    # reverse the order of U, D, V, and shift B(0,0) to the first one, to make the sweep backward\n",
    "    \n",
    "    Ntau = len(phi) \n",
    "    for i in range(1,Ntau+1):\n",
    "        if np.mod(i,Nstable) == 0:\n",
    "            # recompute equal time GF to avoid accumulation of numerical error\n",
    "            GFup_recomputed = GF(Vup[i],Dup[i],Uup[i],Uup[i-1],Dup[i-1],Vup[i-1])\n",
    "            GFdn_recomputed = GF(Vdn[i],Ddn[i],Udn[i],Udn[i-1],Ddn[i-1],Vdn[i-1])\n",
    "\n",
    "            # compare with advanced one to get the accumulated error\n",
    "            GFup_error = np.max(np.abs(GFup_recomputed - GFup))\n",
    "            GFdn_error = np.max(np.abs(GFdn_recomputed - GFdn))\n",
    "            print(\"Error of Green function: \", (GFup_error + GFdn_error)/2)\n",
    "            GFup = GFup_recomputed\n",
    "            GFdn = GFdn_recomputed\n",
    "        \n",
    "        # Update H-S field and Green function\n",
    "        GFup, GFdn, phi[i-1] = Update_HS(GFup, GFdn, phi[i-1], alpha)\n",
    "\n",
    "        # Update SVD decompostion for B matrix\n",
    "        Bup = ExpM(phi[i-1], ExpT,  Vdiag)\n",
    "        Bdn = ExpM(phi[i-1], ExpT, -Vdiag)\n",
    "\n",
    "        # Advance equal time GF using new H-S field\n",
    "        GFup = Bup.dot(GFup).dot(LA.inv(Bup))\n",
    "        GFdn = Bdn.dot(GFdn).dot(LA.inv(Bdn))\n",
    "\n",
    "        # Repalce SVD decomposition of B matrix\n",
    "        Uup[i], Dup[i], Vup[i] = SVD_stablizer_forward(Bup, Uup[i-1], Dup[i-1], Vup[i-1])\n",
    "        Udn[i], Ddn[i], Vdn[i] = SVD_stablizer_forward(Bdn, Udn[i-1], Ddn[i-1], Vdn[i-1])\n",
    "\n",
    "    return GFup, GFdn, Uup, Dup, Vup, Udn, Ddn, Vdn, phi"
   ]
  },
  {
   "cell_type": "code",
   "execution_count": 801,
   "metadata": {},
   "outputs": [],
   "source": [
    "L = 4 * 4\n",
    "Ntau = 2\n",
    "Nstable = 1\n",
    "dtau = 0.1\n",
    "U = 4.0\n",
    "t = -1.0\n",
    "mu = 0\n",
    "beta = dtau * Ntau\n",
    "alpha = np.arccosh(np.exp(0.5*dtau*U))\n",
    "T = Tmatrix(t,mu).real\n",
    "ExpT = sla.expm(-dtau * T)\n",
    "Vdiag = np.zeros(L)\n",
    "Vdiag[:] = alpha"
   ]
  },
  {
   "cell_type": "code",
   "execution_count": 803,
   "metadata": {},
   "outputs": [
    {
     "name": "stdout",
     "output_type": "stream",
     "text": [
      "Error of Green function:  0.0\n",
      "Error of Green function:  5.279120985301165e-15\n",
      "-------------------------------------------------------\n"
     ]
    }
   ],
   "source": [
    "phi = np.random.choice([1, -1], size=(Ntau, L))\n",
    "#The part of spin up and spin down are not coupled but direct product\n",
    "Uup,Dup,Vup = Stable_Bmatrix(phi,ExpT,Vdiag)\n",
    "Udn,Ddn,Vdn = Stable_Bmatrix(phi,ExpT,-Vdiag)\n",
    "GFup = GF(Vup[0],Dup[0],Uup[0],Uup[-1],Dup[-1],Vup[-1])\n",
    "GFdn = GF(Vdn[0],Ddn[0],Udn[0],Udn[-1],Ddn[-1],Vdn[-1])\n",
    "# Sweep\n",
    "GFup, GFdn, Uup, Dup, Vup, Udn, Ddn, Vdn, phi = Sweep_backward(GFup,GFdn,Uup,Dup,Vup,Udn,Ddn,Vdn,phi,ExpT,Vdiag,Nstable,alpha)\n",
    "print('-------------------------------------------------------')\n",
    "#GFup, GFdn, Uup, Dup, Vup, Udn, Ddn, Vdn, phi = Sweep_forward(GFup,GFdn,Uup,Dup,Vup,Udn,Ddn,Vdn,phi,ExpT,Vdiag,Nstable,alpha)\n",
    "\n",
    "# Measurement "
   ]
  },
  {
   "cell_type": "code",
   "execution_count": 806,
   "metadata": {},
   "outputs": [
    {
     "name": "stdout",
     "output_type": "stream",
     "text": [
      "True\n"
     ]
    },
    {
     "data": {
      "text/plain": [
       "True"
      ]
     },
     "execution_count": 806,
     "metadata": {},
     "output_type": "execute_result"
    }
   ],
   "source": [
    "GF1 = GF(Vup[0],Dup[0],Uup[0],Uup[1],Dup[1],Vup[1])\n",
    "GF2 = GF(Vup[1],Dup[1],Uup[1],Uup[0],Dup[0],Vup[0])\n",
    "print(np.allclose(GF1,GF2))\n",
    "np.allclose(GFup, GF1)"
   ]
  },
  {
   "cell_type": "code",
   "execution_count": 810,
   "metadata": {},
   "outputs": [
    {
     "name": "stdout",
     "output_type": "stream",
     "text": [
      "Error of Green function:  0.0\n",
      "Error of Green function:  2.5164332423388558e-15\n",
      "0.6352847108801076 2.34851679772067 -0.7294953514930461 2.6967941420581276\n",
      "False\n",
      "0.044288243702605985\n"
     ]
    }
   ],
   "source": [
    "Uup,Dup,Vup = Stable_Bmatrix(phi,ExpT,Vdiag)\n",
    "Udn,Ddn,Vdn = Stable_Bmatrix(phi,ExpT,-Vdiag)\n",
    "GFup = GF(Vup[0],Dup[0],Uup[0],Uup[-1],Dup[-1],Vup[-1])\n",
    "GFdn = GF(Vdn[0],Ddn[0],Udn[0],Udn[-1],Ddn[-1],Vdn[-1])\n",
    "GFup, GFdn, Uup, Dup, Vup, Udn, Ddn, Vdn, phi = Sweep_backward(GFup,GFdn,Uup,Dup,Vup,Udn,Ddn,Vdn,phi,ExpT,Vdiag,Nstable,alpha)\n",
    "\n",
    "\n",
    "phi_t = phi.copy()\n",
    "i= 0\n",
    "GFup, GFdn = Update_HS_test(GFup, GFdn, phi_t[0], i, alpha)\n",
    "phi_t[0,i] = -phi_t[0,i]\n",
    "\n",
    "Uup1,Dup1,Vup1 = Stable_Bmatrix(phi_t,ExpT,Vdiag)\n",
    "Udn1,Ddn1,Vdn1 = Stable_Bmatrix(phi_t,ExpT,-Vdiag)\n",
    "GFup1 = GF(Vup1[0],Dup1[0],Uup1[0],Uup1[-1],Dup1[-1],Vup1[-1])\n",
    "GFdn1 = GF(Vdn1[0],Ddn1[0],Udn1[0],Udn1[-1],Ddn1[-1],Vdn1[-1])\n",
    "print(np.allclose(GFup,GFup1))\n",
    "print(np.abs(GFup-GFup1).max())"
   ]
  },
  {
   "cell_type": "code",
   "execution_count": 829,
   "metadata": {},
   "outputs": [
    {
     "name": "stdout",
     "output_type": "stream",
     "text": [
      "Error of Green function:  0.0\n",
      "Error of Green function:  1.438275496964958e-15\n",
      "True\n",
      "True\n",
      "2.3484428972299622 0.6352647204538422 2.6967941420581276 -0.7294953514930461\n",
      "2.6967941420581276\n",
      "True\n",
      "True\n",
      "True\n",
      "True\n",
      "False\n"
     ]
    }
   ],
   "source": [
    "Uup,Dup,Vup = Stable_Bmatrix(phi,ExpT,Vdiag)\n",
    "Udn,Ddn,Vdn = Stable_Bmatrix(phi,ExpT,-Vdiag)\n",
    "GFup = GF(Vup[0],Dup[0],Uup[0],Uup[-1],Dup[-1],Vup[-1])\n",
    "GFdn = GF(Vdn[0],Ddn[0],Udn[0],Udn[-1],Ddn[-1],Vdn[-1])\n",
    "GFup, GFdn, Uup, Dup, Vup, Udn, Ddn, Vdn, phi = Sweep_backward(GFup,GFdn,Uup,Dup,Vup,Udn,Ddn,Vdn,phi,ExpT,Vdiag,Nstable,alpha)\n",
    "\n",
    "B1 = Uup[1].dot(np.diag(Dup[1])).dot(Vup[1])\n",
    "B2 = Uup[2].dot(np.diag(Dup[2])).dot(Vup[2])\n",
    "\n",
    "print(np.allclose(B1, B2.dot(ExpM(phi[0],ExpT,Vdiag))))\n",
    "\n",
    "Uup1,Dup1,Vup1 = Stable_Bmatrix(phi,ExpT,Vdiag)\n",
    "Udn1,Ddn1,Vdn1 = Stable_Bmatrix(phi,ExpT,-Vdiag)\n",
    "\n",
    "B3 = Uup1[-1].dot(np.diag(Dup1[-1])).dot(Vup1[-1])\n",
    "print(np.allclose(B3,B1))\n",
    "\n",
    "phi_t = phi.copy()\n",
    "i= 0\n",
    "GFup, GFdn = Update_HS_test(GFup, GFdn, phi_t[0], i, alpha)\n",
    "dup = np.exp(-2 * alpha * phi_t[0][i]) -1 \n",
    "\n",
    "phi_t[0,i] = -phi_t[0,i]\n",
    "Uup2,Dup2,Vup2 = Stable_Bmatrix(phi_t,ExpT,Vdiag)\n",
    "Udn2,Ddn2,Vdn2 = Stable_Bmatrix(phi_t,ExpT,-Vdiag)\n",
    "B3 = Uup2[-1].dot(np.diag(Dup2[-1])).dot(Vup2[-1])\n",
    "\n",
    "delta = np.zeros((len(phi_t[0]),len(phi_t[0])))\n",
    "delta[i,i] = dup\n",
    "print(dup)\n",
    "print(np.allclose((Ident + delta).dot(ExpM(phi[0],ExpT,Vdiag)), ExpM(phi_t[0],ExpT,Vdiag) ))\n",
    "print(np.allclose(B2.dot((Ident + delta).dot(ExpM(phi[0],ExpT,Vdiag))), B3))\n",
    "print(np.allclose(ExpM(phi_t[1],ExpT,Vdiag).dot(ExpM(phi_t[0],ExpT,Vdiag)), B3))\n",
    "print(np.allclose(B2.dot((Ident + delta).dot(ExpM(phi[0],ExpT,Vdiag))), ExpM(phi_t[1],ExpT,Vdiag).dot(ExpM(phi_t[0],ExpT,Vdiag))))\n",
    "\n",
    "print(np.allclose((Ident + delta).dot(B1), B3))\n",
    "\n"
   ]
  },
  {
   "cell_type": "code",
   "execution_count": 698,
   "metadata": {},
   "outputs": [],
   "source": [
    "Uup,Dup,Vup = Stable_Bmatrix(phi,ExpT,Vdiag)\n",
    "Udn,Ddn,Vdn = Stable_Bmatrix(phi,ExpT,-Vdiag)\n",
    "GFup = GF(Vup[0],Dup[0],Uup[0],Uup[-1],Dup[-1],Vup[-1])\n",
    "GFdn = GF(Vdn[0],Ddn[0],Udn[0],Udn[-1],Ddn[-1],Vdn[-1])"
   ]
  },
  {
   "cell_type": "code",
   "execution_count": 712,
   "metadata": {},
   "outputs": [
    {
     "name": "stdout",
     "output_type": "stream",
     "text": [
      "True\n",
      "1.5126788710517758e-15\n"
     ]
    }
   ],
   "source": [
    "Uup,Dup,Vup = Stable_Bmatrix(phi,ExpT,Vdiag)\n",
    "Udn,Ddn,Vdn = Stable_Bmatrix(phi,ExpT,-Vdiag)\n",
    "GFup = GF(Vup[0],Dup[0],Uup[0],Uup[-1],Dup[-1],Vup[-1])\n",
    "GFdn = GF(Vdn[0],Ddn[0],Udn[0],Udn[-1],Ddn[-1],Vdn[-1])\n",
    "\n",
    "phi_t = phi.copy()\n",
    "GFup, GFdn = Update_HS_test(GFup, GFdn, phi_t[-1], 4, alpha)\n",
    "phi_t[-1,4] = -phi_t[-1,4]\n",
    "Uup1,Dup1,Vup1 = Stable_Bmatrix(phi_t,ExpT,Vdiag)\n",
    "Udn1,Ddn1,Vdn1 = Stable_Bmatrix(phi_t,ExpT,-Vdiag)\n",
    "GFup1 = GF(Vup1[0],Dup1[0],Uup1[0],Uup1[-1],Dup1[-1],Vup1[-1])\n",
    "GFdn1 = GF(Vdn1[0],Ddn1[0],Udn1[0],Udn1[-1],Ddn1[-1],Vdn1[-1])\n",
    "print(np.allclose(GFup2,GFup1))\n",
    "print(np.abs(GFup2-GFup1).max())"
   ]
  },
  {
   "cell_type": "code",
   "execution_count": 752,
   "metadata": {},
   "outputs": [],
   "source": [
    "def Update_HS_test(GFup, GFdn, phi, i, alpha):\n",
    "    Ident = np.eye(len(phi))\n",
    "    dup = np.exp(-2 * alpha * phi[i]) -1 \n",
    "    ddn = np.exp(2 * alpha * phi[i]) -1\n",
    "    Rup = 1 + dup * (1 - GFup[i,i])\n",
    "    Rdn = 1 + ddn * (1 - GFdn[i,i])\n",
    "    print(Rup,Rdn,dup,ddn)\n",
    "    GFup1 = GFup.copy()\n",
    "    GFdn1 = GFdn.copy()\n",
    "    GFup1 -= dup * np.outer(GFup[:,i], Ident[i]-GFup[i,:])/Rup\n",
    "    GFdn1 -= ddn * np.outer(GFdn[:,i], Ident[i]-GFdn[i,:])/Rdn\n",
    "\n",
    "    return GFup1, GFdn1\n",
    "def Update_HS(GFup, GFdn, phi, alpha):\n",
    "    Ident = np.eye(len(phi))\n",
    "    for i in range(2):\n",
    "        dup = np.exp(-2 * alpha * phi[i]) -1 \n",
    "        ddn = np.exp(2 * alpha * phi[i]) -1\n",
    "        Rup = 1 + dup * (1 - GFup[i,i])\n",
    "        Rdn = 1 + ddn * (1 - GFdn[i,i])\n",
    "        print(Rup,Rdn,dup,ddn)\n",
    "        GFup -= dup * np.outer(GFup[:,i], Ident[i]-GFup[i,:])/Rup\n",
    "        GFdn -= ddn * np.outer(GFdn[:,i], Ident[i]-GFdn[i,:])/Rdn\n",
    "        phi[i] = -phi[i]\n",
    "    \n",
    "    return GFup, GFdn, phi"
   ]
  },
  {
   "cell_type": "code",
   "execution_count": 758,
   "metadata": {},
   "outputs": [
    {
     "name": "stdout",
     "output_type": "stream",
     "text": [
      "True\n",
      "1.5543122344752192e-15\n"
     ]
    }
   ],
   "source": [
    "Uup,Dup,Vup = Stable_Bmatrix(phi,ExpT,Vdiag)\n",
    "Udn,Ddn,Vdn = Stable_Bmatrix(phi,ExpT,-Vdiag)\n",
    "GFup = GF(Vup[0],Dup[0],Uup[0],Uup[-1],Dup[-1],Vup[-1])\n",
    "GFdn = GF(Vdn[0],Ddn[0],Udn[0],Udn[-1],Ddn[-1],Vdn[-1])\n",
    "\n",
    "phi_t = phi.copy()\n",
    "GFup, GFdn, phi_t[-1] = Update_HS(GFup, GFdn, phi_t[-1], alpha)\n",
    "Uup1,Dup1,Vup1 = Stable_Bmatrix(phi_t,ExpT,Vdiag)\n",
    "Udn1,Ddn1,Vdn1 = Stable_Bmatrix(phi_t,ExpT,-Vdiag)\n",
    "GFup1 = GF(Vup1[0],Dup1[0],Uup1[0],Uup1[-1],Dup1[-1],Vup1[-1])\n",
    "GFdn1 = GF(Vdn1[0],Ddn1[0],Udn1[0],Udn1[-1],Ddn1[-1],Vdn1[-1])\n",
    "print(np.allclose(GFup,GFup1))\n",
    "print(np.abs(GFup-GFup1).max())"
   ]
  },
  {
   "cell_type": "code",
   "execution_count": null,
   "metadata": {},
   "outputs": [],
   "source": [
    "2.3483602604135703 0.635242366810872 2.6967941420581276 -0.7294953514930461\n",
    "2.3334606785685095 0.6312119606609723 2.6967941420581276 -0.7294953514930461"
   ]
  },
  {
   "cell_type": "code",
   "execution_count": 739,
   "metadata": {},
   "outputs": [
    {
     "data": {
      "text/plain": [
       "array([ 1,  1,  1, -1,  1, -1,  1,  1,  1, -1,  1,  1,  1, -1,  1,  1])"
      ]
     },
     "execution_count": 739,
     "metadata": {},
     "output_type": "execute_result"
    }
   ],
   "source": [
    "phi_t[-1]"
   ]
  },
  {
   "cell_type": "code",
   "execution_count": 716,
   "metadata": {},
   "outputs": [],
   "source": [
    "def Update_HS_test(GFup, GFdn, phi, i, alpha):\n",
    "    Ident = np.eye(len(phi))\n",
    "    dup = np.exp(-2 * alpha * phi[i]) -1 \n",
    "    ddn = np.exp(2 * alpha * phi[i]) -1\n",
    "    Rup = 1 + dup * (1 - GFup[i,i])\n",
    "    Rdn = 1 + ddn * (1 - GFdn[i,i])\n",
    "    print(Rup,Rdn,dup,ddn)\n",
    "    GFup1 = GFup.copy()\n",
    "    GFdn1 = GFdn.copy()\n",
    "    GFup1 -= dup * np.outer(GFup[:,i], Ident[i]-GFup[i,:])/Rup\n",
    "    GFdn1 -= ddn * np.outer(GFdn[:,i], Ident[i]-GFdn[i,:])/Rdn\n",
    "\n",
    "    return GFup1, GFdn1"
   ]
  },
  {
   "cell_type": "code",
   "execution_count": 747,
   "metadata": {},
   "outputs": [
    {
     "name": "stdout",
     "output_type": "stream",
     "text": [
      "2.3483602604135703 0.635242366810872 2.6967941420581276 -0.7294953514930461\n",
      "2.3334606785685095 0.6312119606609723 2.6967941420581276 -0.7294953514930461\n",
      "True\n",
      "1.8967032805461415e-15\n"
     ]
    }
   ],
   "source": [
    "Uup,Dup,Vup = Stable_Bmatrix(phi,ExpT,Vdiag)\n",
    "Udn,Ddn,Vdn = Stable_Bmatrix(phi,ExpT,-Vdiag)\n",
    "GFup = GF(Vup[0],Dup[0],Uup[0],Uup[-1],Dup[-1],Vup[-1])\n",
    "GFdn = GF(Vdn[0],Ddn[0],Udn[0],Udn[-1],Ddn[-1],Vdn[-1])\n",
    "\n",
    "phi_t = phi.copy()\n",
    "for i in range(2):\n",
    "    if np.random.rand():\n",
    "        GFup, GFdn = Update_HS_test(GFup, GFdn, phi_t[-1], i, alpha)\n",
    "        phi_t[-1,i] = -phi_t[-1,i]\n",
    "\n",
    "Uup1,Dup1,Vup1 = Stable_Bmatrix(phi_t,ExpT,Vdiag)\n",
    "Udn1,Ddn1,Vdn1 = Stable_Bmatrix(phi_t,ExpT,-Vdiag)\n",
    "GFup1 = GF(Vup1[0],Dup1[0],Uup1[0],Uup1[-1],Dup1[-1],Vup1[-1])\n",
    "GFdn1 = GF(Vdn1[0],Ddn1[0],Udn1[0],Udn1[-1],Ddn1[-1],Vdn1[-1])\n",
    "print(np.allclose(GFup,GFup1))\n",
    "print(np.abs(GFup-GFup1).max())"
   ]
  },
  {
   "cell_type": "code",
   "execution_count": null,
   "metadata": {},
   "outputs": [],
   "source": [
    "def ExpM(phi,ExpT,Vdiag):\n",
    "    # T = exp(-T*dtau)\n",
    "    return np.diag(np.exp(phi * Vdiag)).dot(ExpT)"
   ]
  },
  {
   "cell_type": "code",
   "execution_count": null,
   "metadata": {},
   "outputs": [],
   "source": [
    "def SVD_stablizer_back(A,U,D,V):\n",
    "    # B = U * D * V\n",
    "    # B * A = U * D * V * B = U * U1 * D1 * V1 = U2 * D1 * V1\n",
    "    U1, D, V = LA.svd(np.diag(D).dot(V).dot(A))\n",
    "    return U.dot(U1), D, V\n",
    "    \n",
    "def SVD_stablizer_forward(A,U,D,V):\n",
    "    # B = U * D * V\n",
    "    # A * B = A * U * D * V = U1 * D1 * V1 * V = U1 * D1 * V2\n",
    "    U, D, V1 = LA.svd(A.dot(U.dot(np.diag(D))))\n",
    "    return U, D, V1.dot(V)"
   ]
  },
  {
   "cell_type": "code",
   "execution_count": 431,
   "metadata": {},
   "outputs": [
    {
     "data": {
      "text/plain": [
       "True"
      ]
     },
     "execution_count": 431,
     "metadata": {},
     "output_type": "execute_result"
    }
   ],
   "source": [
    "np.allclose(Uup1[-2].dot(np.diag(Dup1[-2])).dot(Vup1[-2]), Uup[-2].dot(np.diag(Dup[-2])).dot(Vup[-2]))"
   ]
  },
  {
   "cell_type": "code",
   "execution_count": 430,
   "metadata": {},
   "outputs": [
    {
     "name": "stdout",
     "output_type": "stream",
     "text": [
      "[[ 1 -1  1 -1  1  1  1  1  1  1 -1 -1 -1  1  1  1]\n",
      " [ 1  1 -1  1  1  1 -1  1 -1 -1 -1 -1 -1  1 -1 -1]]\n",
      "[[ 1 -1  1 -1  1  1  1  1  1  1 -1 -1 -1  1  1  1]\n",
      " [-1  1 -1  1  1  1 -1  1 -1 -1 -1 -1 -1  1 -1 -1]]\n"
     ]
    }
   ],
   "source": [
    "print(phi_t)\n",
    "print(phi)"
   ]
  },
  {
   "cell_type": "code",
   "execution_count": 550,
   "metadata": {},
   "outputs": [
    {
     "name": "stdout",
     "output_type": "stream",
     "text": [
      "[[ 1 -1  1 -1  1  1  1  1  1  1 -1 -1 -1  1  1  1]\n",
      " [-1  1 -1  1  1  1 -1  1 -1 -1 -1 -1 -1  1 -1 -1]]\n",
      "2.6967941420581276 -0.7294953514930461 3.5182946563826096 0.9517150593686718\n",
      "-0.7294953514930461 2.6967941420581276 0.9989265861229224 3.692825951925343\n",
      "2.6967941420581276 -0.7294953514930461 3.6957431456884384 0.9997157005964352\n",
      "-0.7294953514930461 2.6967941420581276 0.9855585786788038 3.6434071803149357\n",
      "-0.7294953514930461 2.6967941420581276 0.9961884753056004 3.6827037198955614\n",
      "-0.7294953514930461 2.6967941420581276 0.9505547450857379 3.514005213338514\n",
      "2.6967941420581276 -0.7294953514930461 3.642670294119625 0.9853592475375514\n",
      "-0.7294953514930461 2.6967941420581276 0.8506052057389052 3.144512341779731\n",
      "2.6967941420581276 -0.7294953514930461 3.505824390924964 0.948341794594263\n",
      "2.6967941420581276 -0.7294953514930461 3.6431250330512404 0.9854822565324105\n",
      "2.6967941420581276 -0.7294953514930461 3.681695444940936 0.995915732243401\n",
      "2.6967941420581276 -0.7294953514930461 3.5147962860007826 0.9507687339181893\n",
      "2.6967941420581276 -0.7294953514930461 3.646140502010015 0.9862979549031875\n",
      "-0.7294953514930461 2.6967941420581276 0.996426992473082 3.6835854687630873\n",
      "2.6967941420581276 -0.7294953514930461 3.6927111523778082 0.9988955323116677\n",
      "2.6967941420581276 -0.7294953514930461 3.641131054523002 0.984942876071499\n"
     ]
    }
   ],
   "source": [
    "phi_t = phi.copy()\n",
    "print(phi_t)\n",
    "for i in range(16):\n",
    "    if np.random.rand() < 0.5:\n",
    "        GFup, GFdn = Update_HS_test(GFup, GFdn, phi_t[-1], i, alpha)\n",
    "        phi_t[-1][i] = -phi_t[-1][i]"
   ]
  },
  {
   "cell_type": "code",
   "execution_count": 551,
   "metadata": {},
   "outputs": [],
   "source": [
    "Uup1,Dup1,Vup1 = Stable_Bmatrix(phi_t,ExpT,Vdiag)\n",
    "Udn1,Ddn1,Vdn1 = Stable_Bmatrix(phi_t,ExpT,-Vdiag)\n",
    "GFup1 = GF(Vup1[0],Dup1[0],Uup1[0],Uup1[-1],Dup1[-1],Vup1[-1])\n",
    "GFdn1 = GF(Vdn1[0],Ddn1[0],Udn1[0],Udn1[-1],Ddn1[-1],Vdn1[-1])"
   ]
  },
  {
   "cell_type": "code",
   "execution_count": 552,
   "metadata": {},
   "outputs": [
    {
     "name": "stdout",
     "output_type": "stream",
     "text": [
      "False\n",
      "0.49831819595021043\n"
     ]
    }
   ],
   "source": [
    "print(np.allclose(GFup,GFup1))\n",
    "print(np.abs(GFup - GFup1).max())"
   ]
  },
  {
   "cell_type": "code",
   "execution_count": 89,
   "metadata": {},
   "outputs": [
    {
     "name": "stdout",
     "output_type": "stream",
     "text": [
      "[-1 -1 -1  1  1 -1 -1  1 -1 -1 -1  1  1  1 -1  1]\n"
     ]
    }
   ],
   "source": [
    "GFup, GFdn, _  = Update_HS(GFup, GFdn, phi[-1],alpha)"
   ]
  },
  {
   "cell_type": "code",
   "execution_count": 142,
   "metadata": {},
   "outputs": [],
   "source": [
    "def update_gr_lowrank(gr, i,  phi, alpha):\n",
    "    gr = np.array(gr)\n",
    "    L = gr[0].shape[0]\n",
    "    ratio = np.zeros(2, dtype=np.float64)\n",
    "    gamma = np.zeros(2, dtype=np.float64)\n",
    "    bb = [+1, - 1]\n",
    "    for s in np.arange(2):\n",
    "        gamma[s] = np.exp(-2* phi[i] * alpha * bb[s]) -1\n",
    "        ratio[s] = 1 + (1 - gr[s, i, i]) * gamma[s]\n",
    "\n",
    "    gr_old = gr.copy()  \n",
    "    for s in np.arange(2):\n",
    "        for j in np.arange(L):\n",
    "            for k in np.arange(L):\n",
    "                if (i == k):\n",
    "                    gr[s, j, k] = gr_old[s, j, k] \\\n",
    "                        - ((1.0 - gr_old[s, i, k]) * gamma[s] * gr_old[s, j, i]) / ratio[s]\n",
    "                else:\n",
    "                    gr[s, j, k] = gr_old[s, j, k]  \\\n",
    "                        + (gr_old[s, i, k] * gamma[s] * gr_old[s, j, i]) / ratio[s]\n",
    "    return gr"
   ]
  },
  {
   "cell_type": "code",
   "execution_count": 718,
   "metadata": {},
   "outputs": [],
   "source": [
    "Uup,Dup,Vup = Stable_Bmatrix(phi,ExpT,Vdiag)\n",
    "Udn,Ddn,Vdn = Stable_Bmatrix(phi,ExpT,-Vdiag)\n",
    "GFup = GF(Vup[0],Dup[0],Uup[0],Uup[-1],Dup[-1],Vup[-1])\n",
    "GFdn = GF(Vdn[0],Ddn[0],Udn[0],Udn[-1],Ddn[-1],Vdn[-1])"
   ]
  },
  {
   "cell_type": "code",
   "execution_count": 719,
   "metadata": {},
   "outputs": [],
   "source": [
    "phi_t = phi.copy()\n",
    "i = 0\n",
    "Ident = np.eye(len(phi_t[-1]))\n",
    "dup = np.exp(-2 * alpha * phi_t[-1][i]) -1 \n",
    "ddn = np.exp(2 * alpha * phi_t[-1][i]) -1\n",
    "Rup = 1 + dup * (1 - GFup[i,i])\n",
    "Rdn = 1 + ddn * (1 - GFdn[i,i])\n",
    "GFup1 = GFup.copy()\n",
    "GFdn1 = GFdn.copy()\n",
    "\n",
    "GFup1 -= dup * np.outer(GFup[:,i], Ident[i]-GFup[i,:])/Rup\n",
    "GFdn1 -= ddn * np.outer(GFdn[:,i], Ident[i]-GFdn[i,:])/Rdn"
   ]
  },
  {
   "cell_type": "code",
   "execution_count": 720,
   "metadata": {},
   "outputs": [
    {
     "name": "stdout",
     "output_type": "stream",
     "text": [
      "2.3483602604135703 0.635242366810872 2.6967941420581276 -0.7294953514930461\n"
     ]
    }
   ],
   "source": [
    "print(Rup,Rdn, dup, ddn)"
   ]
  },
  {
   "cell_type": "code",
   "execution_count": 708,
   "metadata": {},
   "outputs": [],
   "source": [
    "delta = np.zeros((len(phi_t[-1]),len(phi_t[-1])))\n",
    "delta[i,i] = dup"
   ]
  },
  {
   "cell_type": "code",
   "execution_count": 709,
   "metadata": {},
   "outputs": [],
   "source": [
    "phi_t[-1,i] = -phi_t[-1,i]\n",
    "Uup1,Dup1,Vup1 = Stable_Bmatrix(phi_t,ExpT,Vdiag)\n",
    "Udn1,Ddn1,Vdn1 = Stable_Bmatrix(phi_t,ExpT,-Vdiag)\n",
    "GFup2 = GF(Vup1[-1],Dup1[-1],Uup1[-1],Uup1[0],Dup1[0],Vup1[0])\n",
    "GFdn2 = GF(Vdn1[-1],Ddn1[-1],Udn1[-1],Udn1[0],Ddn1[0],Vdn1[0])"
   ]
  },
  {
   "cell_type": "code",
   "execution_count": 710,
   "metadata": {},
   "outputs": [
    {
     "name": "stdout",
     "output_type": "stream",
     "text": [
      "True\n",
      "1.1726730697603216e-15\n"
     ]
    }
   ],
   "source": [
    "print(np.allclose(GFup1,GFup2))\n",
    "print(np.max(np.abs(GFup1-GFup2)))"
   ]
  },
  {
   "cell_type": "code",
   "execution_count": 692,
   "metadata": {},
   "outputs": [
    {
     "data": {
      "text/plain": [
       "True"
      ]
     },
     "execution_count": 692,
     "metadata": {},
     "output_type": "execute_result"
    }
   ],
   "source": [
    "np.allclose(ExpM(phi_t[-1],ExpT,Vdiag), (Ident + delta).dot(ExpM(phi[-1],ExpT,Vdiag)))"
   ]
  },
  {
   "cell_type": "code",
   "execution_count": 693,
   "metadata": {},
   "outputs": [
    {
     "data": {
      "text/plain": [
       "True"
      ]
     },
     "execution_count": 693,
     "metadata": {},
     "output_type": "execute_result"
    }
   ],
   "source": [
    "np.allclose(ExpM(phi_t[-1],np.eye(16),Vdiag), (Ident + delta).dot(ExpM(phi[-1],np.eye(16),Vdiag)))"
   ]
  },
  {
   "cell_type": "code",
   "execution_count": 677,
   "metadata": {},
   "outputs": [
    {
     "data": {
      "text/plain": [
       "array([1.        , 1.        , 1.        , 1.        , 3.69679414,\n",
       "       1.        , 1.        , 1.        , 1.        , 1.        ,\n",
       "       1.        , 1.        , 1.        , 1.        , 1.        ,\n",
       "       1.        ])"
      ]
     },
     "execution_count": 677,
     "metadata": {},
     "output_type": "execute_result"
    }
   ],
   "source": [
    "np.diag(ExpM(phi_t[-1],np.eye(16),Vdiag))/np.diag(ExpM(phi[-1],np.eye(16),Vdiag))"
   ]
  },
  {
   "cell_type": "code",
   "execution_count": 523,
   "metadata": {},
   "outputs": [
    {
     "name": "stdout",
     "output_type": "stream",
     "text": [
      "2.6967941420581276 -0.7294953514930461 2.329807485420126 0.630223754932441\n",
      "2.6967941420581276 -0.7294953514930461 2.329807485420126 0.630223754932441\n"
     ]
    },
    {
     "data": {
      "text/plain": [
       "True"
      ]
     },
     "execution_count": 523,
     "metadata": {},
     "output_type": "execute_result"
    }
   ],
   "source": [
    "phi_t = phi.copy()\n",
    "GFup3, GFdn3 = Update_HS_test(GFup, GFdn, phi_t[-1], 0, alpha)\n",
    "print(dup,ddn,Rup,Rdn)\n",
    "np.allclose(GFup1,GFup3)"
   ]
  },
  {
   "cell_type": "code",
   "execution_count": null,
   "metadata": {},
   "outputs": [],
   "source": []
  }
 ],
 "metadata": {
  "kernelspec": {
   "display_name": "base",
   "language": "python",
   "name": "python3"
  },
  "language_info": {
   "codemirror_mode": {
    "name": "ipython",
    "version": 3
   },
   "file_extension": ".py",
   "mimetype": "text/x-python",
   "name": "python",
   "nbconvert_exporter": "python",
   "pygments_lexer": "ipython3",
   "version": "3.8.13"
  },
  "orig_nbformat": 4
 },
 "nbformat": 4,
 "nbformat_minor": 2
}
